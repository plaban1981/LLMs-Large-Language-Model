{
  "nbformat": 4,
  "nbformat_minor": 0,
  "metadata": {
    "colab": {
      "provenance": [],
      "authorship_tag": "ABX9TyO0XobzpHHb3KVw8sEu+e/v",
      "include_colab_link": true
    },
    "kernelspec": {
      "name": "python3",
      "display_name": "Python 3"
    },
    "language_info": {
      "name": "python"
    },
    "accelerator": "GPU",
    "gpuClass": "standard",
    "widgets": {
      "application/vnd.jupyter.widget-state+json": {
        "46cbacac599541d8baff4a271b6bc5f5": {
          "model_module": "@jupyter-widgets/controls",
          "model_name": "HBoxModel",
          "model_module_version": "1.5.0",
          "state": {
            "_dom_classes": [],
            "_model_module": "@jupyter-widgets/controls",
            "_model_module_version": "1.5.0",
            "_model_name": "HBoxModel",
            "_view_count": null,
            "_view_module": "@jupyter-widgets/controls",
            "_view_module_version": "1.5.0",
            "_view_name": "HBoxView",
            "box_style": "",
            "children": [
              "IPY_MODEL_7bcafcccd1814ba9b1062098617d2cac",
              "IPY_MODEL_b0acc51add8742ec9591634a476f8c48",
              "IPY_MODEL_c9cfb6a3977a4eb8ae303d41e763b832"
            ],
            "layout": "IPY_MODEL_e9250cf1dd094822bff5ca3c2ecfa5d6"
          }
        },
        "7bcafcccd1814ba9b1062098617d2cac": {
          "model_module": "@jupyter-widgets/controls",
          "model_name": "HTMLModel",
          "model_module_version": "1.5.0",
          "state": {
            "_dom_classes": [],
            "_model_module": "@jupyter-widgets/controls",
            "_model_module_version": "1.5.0",
            "_model_name": "HTMLModel",
            "_view_count": null,
            "_view_module": "@jupyter-widgets/controls",
            "_view_module_version": "1.5.0",
            "_view_name": "HTMLView",
            "description": "",
            "description_tooltip": null,
            "layout": "IPY_MODEL_7c6411687e66492d8bca95c7cb9d8175",
            "placeholder": "​",
            "style": "IPY_MODEL_ec1068ff347f4f93ac8eb7da777b923a",
            "value": "Loading checkpoint shards: 100%"
          }
        },
        "b0acc51add8742ec9591634a476f8c48": {
          "model_module": "@jupyter-widgets/controls",
          "model_name": "FloatProgressModel",
          "model_module_version": "1.5.0",
          "state": {
            "_dom_classes": [],
            "_model_module": "@jupyter-widgets/controls",
            "_model_module_version": "1.5.0",
            "_model_name": "FloatProgressModel",
            "_view_count": null,
            "_view_module": "@jupyter-widgets/controls",
            "_view_module_version": "1.5.0",
            "_view_name": "ProgressView",
            "bar_style": "success",
            "description": "",
            "description_tooltip": null,
            "layout": "IPY_MODEL_a94ff415a23046bd97f6c3f103fc0ee4",
            "max": 3,
            "min": 0,
            "orientation": "horizontal",
            "style": "IPY_MODEL_5c42941ec69e40f6a55001444bcf82cf",
            "value": 3
          }
        },
        "c9cfb6a3977a4eb8ae303d41e763b832": {
          "model_module": "@jupyter-widgets/controls",
          "model_name": "HTMLModel",
          "model_module_version": "1.5.0",
          "state": {
            "_dom_classes": [],
            "_model_module": "@jupyter-widgets/controls",
            "_model_module_version": "1.5.0",
            "_model_name": "HTMLModel",
            "_view_count": null,
            "_view_module": "@jupyter-widgets/controls",
            "_view_module_version": "1.5.0",
            "_view_name": "HTMLView",
            "description": "",
            "description_tooltip": null,
            "layout": "IPY_MODEL_134bf53683154e65af2a436a8400cb4f",
            "placeholder": "​",
            "style": "IPY_MODEL_3104a895798f4400b34645c659551e7f",
            "value": " 3/3 [02:10&lt;00:00, 41.63s/it]"
          }
        },
        "e9250cf1dd094822bff5ca3c2ecfa5d6": {
          "model_module": "@jupyter-widgets/base",
          "model_name": "LayoutModel",
          "model_module_version": "1.2.0",
          "state": {
            "_model_module": "@jupyter-widgets/base",
            "_model_module_version": "1.2.0",
            "_model_name": "LayoutModel",
            "_view_count": null,
            "_view_module": "@jupyter-widgets/base",
            "_view_module_version": "1.2.0",
            "_view_name": "LayoutView",
            "align_content": null,
            "align_items": null,
            "align_self": null,
            "border": null,
            "bottom": null,
            "display": null,
            "flex": null,
            "flex_flow": null,
            "grid_area": null,
            "grid_auto_columns": null,
            "grid_auto_flow": null,
            "grid_auto_rows": null,
            "grid_column": null,
            "grid_gap": null,
            "grid_row": null,
            "grid_template_areas": null,
            "grid_template_columns": null,
            "grid_template_rows": null,
            "height": null,
            "justify_content": null,
            "justify_items": null,
            "left": null,
            "margin": null,
            "max_height": null,
            "max_width": null,
            "min_height": null,
            "min_width": null,
            "object_fit": null,
            "object_position": null,
            "order": null,
            "overflow": null,
            "overflow_x": null,
            "overflow_y": null,
            "padding": null,
            "right": null,
            "top": null,
            "visibility": null,
            "width": null
          }
        },
        "7c6411687e66492d8bca95c7cb9d8175": {
          "model_module": "@jupyter-widgets/base",
          "model_name": "LayoutModel",
          "model_module_version": "1.2.0",
          "state": {
            "_model_module": "@jupyter-widgets/base",
            "_model_module_version": "1.2.0",
            "_model_name": "LayoutModel",
            "_view_count": null,
            "_view_module": "@jupyter-widgets/base",
            "_view_module_version": "1.2.0",
            "_view_name": "LayoutView",
            "align_content": null,
            "align_items": null,
            "align_self": null,
            "border": null,
            "bottom": null,
            "display": null,
            "flex": null,
            "flex_flow": null,
            "grid_area": null,
            "grid_auto_columns": null,
            "grid_auto_flow": null,
            "grid_auto_rows": null,
            "grid_column": null,
            "grid_gap": null,
            "grid_row": null,
            "grid_template_areas": null,
            "grid_template_columns": null,
            "grid_template_rows": null,
            "height": null,
            "justify_content": null,
            "justify_items": null,
            "left": null,
            "margin": null,
            "max_height": null,
            "max_width": null,
            "min_height": null,
            "min_width": null,
            "object_fit": null,
            "object_position": null,
            "order": null,
            "overflow": null,
            "overflow_x": null,
            "overflow_y": null,
            "padding": null,
            "right": null,
            "top": null,
            "visibility": null,
            "width": null
          }
        },
        "ec1068ff347f4f93ac8eb7da777b923a": {
          "model_module": "@jupyter-widgets/controls",
          "model_name": "DescriptionStyleModel",
          "model_module_version": "1.5.0",
          "state": {
            "_model_module": "@jupyter-widgets/controls",
            "_model_module_version": "1.5.0",
            "_model_name": "DescriptionStyleModel",
            "_view_count": null,
            "_view_module": "@jupyter-widgets/base",
            "_view_module_version": "1.2.0",
            "_view_name": "StyleView",
            "description_width": ""
          }
        },
        "a94ff415a23046bd97f6c3f103fc0ee4": {
          "model_module": "@jupyter-widgets/base",
          "model_name": "LayoutModel",
          "model_module_version": "1.2.0",
          "state": {
            "_model_module": "@jupyter-widgets/base",
            "_model_module_version": "1.2.0",
            "_model_name": "LayoutModel",
            "_view_count": null,
            "_view_module": "@jupyter-widgets/base",
            "_view_module_version": "1.2.0",
            "_view_name": "LayoutView",
            "align_content": null,
            "align_items": null,
            "align_self": null,
            "border": null,
            "bottom": null,
            "display": null,
            "flex": null,
            "flex_flow": null,
            "grid_area": null,
            "grid_auto_columns": null,
            "grid_auto_flow": null,
            "grid_auto_rows": null,
            "grid_column": null,
            "grid_gap": null,
            "grid_row": null,
            "grid_template_areas": null,
            "grid_template_columns": null,
            "grid_template_rows": null,
            "height": null,
            "justify_content": null,
            "justify_items": null,
            "left": null,
            "margin": null,
            "max_height": null,
            "max_width": null,
            "min_height": null,
            "min_width": null,
            "object_fit": null,
            "object_position": null,
            "order": null,
            "overflow": null,
            "overflow_x": null,
            "overflow_y": null,
            "padding": null,
            "right": null,
            "top": null,
            "visibility": null,
            "width": null
          }
        },
        "5c42941ec69e40f6a55001444bcf82cf": {
          "model_module": "@jupyter-widgets/controls",
          "model_name": "ProgressStyleModel",
          "model_module_version": "1.5.0",
          "state": {
            "_model_module": "@jupyter-widgets/controls",
            "_model_module_version": "1.5.0",
            "_model_name": "ProgressStyleModel",
            "_view_count": null,
            "_view_module": "@jupyter-widgets/base",
            "_view_module_version": "1.2.0",
            "_view_name": "StyleView",
            "bar_color": null,
            "description_width": ""
          }
        },
        "134bf53683154e65af2a436a8400cb4f": {
          "model_module": "@jupyter-widgets/base",
          "model_name": "LayoutModel",
          "model_module_version": "1.2.0",
          "state": {
            "_model_module": "@jupyter-widgets/base",
            "_model_module_version": "1.2.0",
            "_model_name": "LayoutModel",
            "_view_count": null,
            "_view_module": "@jupyter-widgets/base",
            "_view_module_version": "1.2.0",
            "_view_name": "LayoutView",
            "align_content": null,
            "align_items": null,
            "align_self": null,
            "border": null,
            "bottom": null,
            "display": null,
            "flex": null,
            "flex_flow": null,
            "grid_area": null,
            "grid_auto_columns": null,
            "grid_auto_flow": null,
            "grid_auto_rows": null,
            "grid_column": null,
            "grid_gap": null,
            "grid_row": null,
            "grid_template_areas": null,
            "grid_template_columns": null,
            "grid_template_rows": null,
            "height": null,
            "justify_content": null,
            "justify_items": null,
            "left": null,
            "margin": null,
            "max_height": null,
            "max_width": null,
            "min_height": null,
            "min_width": null,
            "object_fit": null,
            "object_position": null,
            "order": null,
            "overflow": null,
            "overflow_x": null,
            "overflow_y": null,
            "padding": null,
            "right": null,
            "top": null,
            "visibility": null,
            "width": null
          }
        },
        "3104a895798f4400b34645c659551e7f": {
          "model_module": "@jupyter-widgets/controls",
          "model_name": "DescriptionStyleModel",
          "model_module_version": "1.5.0",
          "state": {
            "_model_module": "@jupyter-widgets/controls",
            "_model_module_version": "1.5.0",
            "_model_name": "DescriptionStyleModel",
            "_view_count": null,
            "_view_module": "@jupyter-widgets/base",
            "_view_module_version": "1.2.0",
            "_view_name": "StyleView",
            "description_width": ""
          }
        },
        "56788ab960b243f9b54768daf0784e12": {
          "model_module": "@jupyter-widgets/controls",
          "model_name": "HBoxModel",
          "model_module_version": "1.5.0",
          "state": {
            "_dom_classes": [],
            "_model_module": "@jupyter-widgets/controls",
            "_model_module_version": "1.5.0",
            "_model_name": "HBoxModel",
            "_view_count": null,
            "_view_module": "@jupyter-widgets/controls",
            "_view_module_version": "1.5.0",
            "_view_name": "HBoxView",
            "box_style": "",
            "children": [
              "IPY_MODEL_da7b32415fcf4d889e586aff0a3a9278",
              "IPY_MODEL_86f46e5906ff47e38ee45f2b65c4a6e5",
              "IPY_MODEL_29a381259e2c4ba1bbac13f12bd19505"
            ],
            "layout": "IPY_MODEL_13f11d227db5428aab03d57218e9b7c6"
          }
        },
        "da7b32415fcf4d889e586aff0a3a9278": {
          "model_module": "@jupyter-widgets/controls",
          "model_name": "HTMLModel",
          "model_module_version": "1.5.0",
          "state": {
            "_dom_classes": [],
            "_model_module": "@jupyter-widgets/controls",
            "_model_module_version": "1.5.0",
            "_model_name": "HTMLModel",
            "_view_count": null,
            "_view_module": "@jupyter-widgets/controls",
            "_view_module_version": "1.5.0",
            "_view_name": "HTMLView",
            "description": "",
            "description_tooltip": null,
            "layout": "IPY_MODEL_536ffb0ebffb43e991f1bdea465b6278",
            "placeholder": "​",
            "style": "IPY_MODEL_9b2ecf2405a8426ca3e25918b2ed5eb8",
            "value": "Downloading (…)neration_config.json: 100%"
          }
        },
        "86f46e5906ff47e38ee45f2b65c4a6e5": {
          "model_module": "@jupyter-widgets/controls",
          "model_name": "FloatProgressModel",
          "model_module_version": "1.5.0",
          "state": {
            "_dom_classes": [],
            "_model_module": "@jupyter-widgets/controls",
            "_model_module_version": "1.5.0",
            "_model_name": "FloatProgressModel",
            "_view_count": null,
            "_view_module": "@jupyter-widgets/controls",
            "_view_module_version": "1.5.0",
            "_view_name": "ProgressView",
            "bar_style": "success",
            "description": "",
            "description_tooltip": null,
            "layout": "IPY_MODEL_47dff913648f4e3cb80bd6160c18bad6",
            "max": 137,
            "min": 0,
            "orientation": "horizontal",
            "style": "IPY_MODEL_df8584032a174bda9111b4e4e36cb551",
            "value": 137
          }
        },
        "29a381259e2c4ba1bbac13f12bd19505": {
          "model_module": "@jupyter-widgets/controls",
          "model_name": "HTMLModel",
          "model_module_version": "1.5.0",
          "state": {
            "_dom_classes": [],
            "_model_module": "@jupyter-widgets/controls",
            "_model_module_version": "1.5.0",
            "_model_name": "HTMLModel",
            "_view_count": null,
            "_view_module": "@jupyter-widgets/controls",
            "_view_module_version": "1.5.0",
            "_view_name": "HTMLView",
            "description": "",
            "description_tooltip": null,
            "layout": "IPY_MODEL_afff169395834f73913dc653afb73f6d",
            "placeholder": "​",
            "style": "IPY_MODEL_401eb6e4bd554cc29f765afc5e9ca5de",
            "value": " 137/137 [00:00&lt;00:00, 5.97kB/s]"
          }
        },
        "13f11d227db5428aab03d57218e9b7c6": {
          "model_module": "@jupyter-widgets/base",
          "model_name": "LayoutModel",
          "model_module_version": "1.2.0",
          "state": {
            "_model_module": "@jupyter-widgets/base",
            "_model_module_version": "1.2.0",
            "_model_name": "LayoutModel",
            "_view_count": null,
            "_view_module": "@jupyter-widgets/base",
            "_view_module_version": "1.2.0",
            "_view_name": "LayoutView",
            "align_content": null,
            "align_items": null,
            "align_self": null,
            "border": null,
            "bottom": null,
            "display": null,
            "flex": null,
            "flex_flow": null,
            "grid_area": null,
            "grid_auto_columns": null,
            "grid_auto_flow": null,
            "grid_auto_rows": null,
            "grid_column": null,
            "grid_gap": null,
            "grid_row": null,
            "grid_template_areas": null,
            "grid_template_columns": null,
            "grid_template_rows": null,
            "height": null,
            "justify_content": null,
            "justify_items": null,
            "left": null,
            "margin": null,
            "max_height": null,
            "max_width": null,
            "min_height": null,
            "min_width": null,
            "object_fit": null,
            "object_position": null,
            "order": null,
            "overflow": null,
            "overflow_x": null,
            "overflow_y": null,
            "padding": null,
            "right": null,
            "top": null,
            "visibility": null,
            "width": null
          }
        },
        "536ffb0ebffb43e991f1bdea465b6278": {
          "model_module": "@jupyter-widgets/base",
          "model_name": "LayoutModel",
          "model_module_version": "1.2.0",
          "state": {
            "_model_module": "@jupyter-widgets/base",
            "_model_module_version": "1.2.0",
            "_model_name": "LayoutModel",
            "_view_count": null,
            "_view_module": "@jupyter-widgets/base",
            "_view_module_version": "1.2.0",
            "_view_name": "LayoutView",
            "align_content": null,
            "align_items": null,
            "align_self": null,
            "border": null,
            "bottom": null,
            "display": null,
            "flex": null,
            "flex_flow": null,
            "grid_area": null,
            "grid_auto_columns": null,
            "grid_auto_flow": null,
            "grid_auto_rows": null,
            "grid_column": null,
            "grid_gap": null,
            "grid_row": null,
            "grid_template_areas": null,
            "grid_template_columns": null,
            "grid_template_rows": null,
            "height": null,
            "justify_content": null,
            "justify_items": null,
            "left": null,
            "margin": null,
            "max_height": null,
            "max_width": null,
            "min_height": null,
            "min_width": null,
            "object_fit": null,
            "object_position": null,
            "order": null,
            "overflow": null,
            "overflow_x": null,
            "overflow_y": null,
            "padding": null,
            "right": null,
            "top": null,
            "visibility": null,
            "width": null
          }
        },
        "9b2ecf2405a8426ca3e25918b2ed5eb8": {
          "model_module": "@jupyter-widgets/controls",
          "model_name": "DescriptionStyleModel",
          "model_module_version": "1.5.0",
          "state": {
            "_model_module": "@jupyter-widgets/controls",
            "_model_module_version": "1.5.0",
            "_model_name": "DescriptionStyleModel",
            "_view_count": null,
            "_view_module": "@jupyter-widgets/base",
            "_view_module_version": "1.2.0",
            "_view_name": "StyleView",
            "description_width": ""
          }
        },
        "47dff913648f4e3cb80bd6160c18bad6": {
          "model_module": "@jupyter-widgets/base",
          "model_name": "LayoutModel",
          "model_module_version": "1.2.0",
          "state": {
            "_model_module": "@jupyter-widgets/base",
            "_model_module_version": "1.2.0",
            "_model_name": "LayoutModel",
            "_view_count": null,
            "_view_module": "@jupyter-widgets/base",
            "_view_module_version": "1.2.0",
            "_view_name": "LayoutView",
            "align_content": null,
            "align_items": null,
            "align_self": null,
            "border": null,
            "bottom": null,
            "display": null,
            "flex": null,
            "flex_flow": null,
            "grid_area": null,
            "grid_auto_columns": null,
            "grid_auto_flow": null,
            "grid_auto_rows": null,
            "grid_column": null,
            "grid_gap": null,
            "grid_row": null,
            "grid_template_areas": null,
            "grid_template_columns": null,
            "grid_template_rows": null,
            "height": null,
            "justify_content": null,
            "justify_items": null,
            "left": null,
            "margin": null,
            "max_height": null,
            "max_width": null,
            "min_height": null,
            "min_width": null,
            "object_fit": null,
            "object_position": null,
            "order": null,
            "overflow": null,
            "overflow_x": null,
            "overflow_y": null,
            "padding": null,
            "right": null,
            "top": null,
            "visibility": null,
            "width": null
          }
        },
        "df8584032a174bda9111b4e4e36cb551": {
          "model_module": "@jupyter-widgets/controls",
          "model_name": "ProgressStyleModel",
          "model_module_version": "1.5.0",
          "state": {
            "_model_module": "@jupyter-widgets/controls",
            "_model_module_version": "1.5.0",
            "_model_name": "ProgressStyleModel",
            "_view_count": null,
            "_view_module": "@jupyter-widgets/base",
            "_view_module_version": "1.2.0",
            "_view_name": "StyleView",
            "bar_color": null,
            "description_width": ""
          }
        },
        "afff169395834f73913dc653afb73f6d": {
          "model_module": "@jupyter-widgets/base",
          "model_name": "LayoutModel",
          "model_module_version": "1.2.0",
          "state": {
            "_model_module": "@jupyter-widgets/base",
            "_model_module_version": "1.2.0",
            "_model_name": "LayoutModel",
            "_view_count": null,
            "_view_module": "@jupyter-widgets/base",
            "_view_module_version": "1.2.0",
            "_view_name": "LayoutView",
            "align_content": null,
            "align_items": null,
            "align_self": null,
            "border": null,
            "bottom": null,
            "display": null,
            "flex": null,
            "flex_flow": null,
            "grid_area": null,
            "grid_auto_columns": null,
            "grid_auto_flow": null,
            "grid_auto_rows": null,
            "grid_column": null,
            "grid_gap": null,
            "grid_row": null,
            "grid_template_areas": null,
            "grid_template_columns": null,
            "grid_template_rows": null,
            "height": null,
            "justify_content": null,
            "justify_items": null,
            "left": null,
            "margin": null,
            "max_height": null,
            "max_width": null,
            "min_height": null,
            "min_width": null,
            "object_fit": null,
            "object_position": null,
            "order": null,
            "overflow": null,
            "overflow_x": null,
            "overflow_y": null,
            "padding": null,
            "right": null,
            "top": null,
            "visibility": null,
            "width": null
          }
        },
        "401eb6e4bd554cc29f765afc5e9ca5de": {
          "model_module": "@jupyter-widgets/controls",
          "model_name": "DescriptionStyleModel",
          "model_module_version": "1.5.0",
          "state": {
            "_model_module": "@jupyter-widgets/controls",
            "_model_module_version": "1.5.0",
            "_model_name": "DescriptionStyleModel",
            "_view_count": null,
            "_view_module": "@jupyter-widgets/base",
            "_view_module_version": "1.2.0",
            "_view_name": "StyleView",
            "description_width": ""
          }
        },
        "c131a298c101476da5bb1cc8bcc4e693": {
          "model_module": "@jupyter-widgets/controls",
          "model_name": "HBoxModel",
          "model_module_version": "1.5.0",
          "state": {
            "_dom_classes": [],
            "_model_module": "@jupyter-widgets/controls",
            "_model_module_version": "1.5.0",
            "_model_name": "HBoxModel",
            "_view_count": null,
            "_view_module": "@jupyter-widgets/controls",
            "_view_module_version": "1.5.0",
            "_view_name": "HBoxView",
            "box_style": "",
            "children": [
              "IPY_MODEL_12da84bbc61d4d519c1e37f3ca3d3f88",
              "IPY_MODEL_98b89b6c6bc34cec9834a92695d428b5",
              "IPY_MODEL_71555f9f74614b5ebd2d73912598004f"
            ],
            "layout": "IPY_MODEL_7e09cd0f8c894b0f819ecf7f1b84f4aa"
          }
        },
        "12da84bbc61d4d519c1e37f3ca3d3f88": {
          "model_module": "@jupyter-widgets/controls",
          "model_name": "HTMLModel",
          "model_module_version": "1.5.0",
          "state": {
            "_dom_classes": [],
            "_model_module": "@jupyter-widgets/controls",
            "_model_module_version": "1.5.0",
            "_model_name": "HTMLModel",
            "_view_count": null,
            "_view_module": "@jupyter-widgets/controls",
            "_view_module_version": "1.5.0",
            "_view_name": "HTMLView",
            "description": "",
            "description_tooltip": null,
            "layout": "IPY_MODEL_93ff8a9dede84fa0bb393fb0e3302f1b",
            "placeholder": "​",
            "style": "IPY_MODEL_030b9ef2b7d4476eb4b129994d3cc65c",
            "value": "Downloading (…)okenizer_config.json: 100%"
          }
        },
        "98b89b6c6bc34cec9834a92695d428b5": {
          "model_module": "@jupyter-widgets/controls",
          "model_name": "FloatProgressModel",
          "model_module_version": "1.5.0",
          "state": {
            "_dom_classes": [],
            "_model_module": "@jupyter-widgets/controls",
            "_model_module_version": "1.5.0",
            "_model_name": "FloatProgressModel",
            "_view_count": null,
            "_view_module": "@jupyter-widgets/controls",
            "_view_module_version": "1.5.0",
            "_view_name": "ProgressView",
            "bar_style": "success",
            "description": "",
            "description_tooltip": null,
            "layout": "IPY_MODEL_9ca6960eea4b4ac7a73aef23780b4bbf",
            "max": 205,
            "min": 0,
            "orientation": "horizontal",
            "style": "IPY_MODEL_6d6e3b71c029441289beed2488601ae6",
            "value": 205
          }
        },
        "71555f9f74614b5ebd2d73912598004f": {
          "model_module": "@jupyter-widgets/controls",
          "model_name": "HTMLModel",
          "model_module_version": "1.5.0",
          "state": {
            "_dom_classes": [],
            "_model_module": "@jupyter-widgets/controls",
            "_model_module_version": "1.5.0",
            "_model_name": "HTMLModel",
            "_view_count": null,
            "_view_module": "@jupyter-widgets/controls",
            "_view_module_version": "1.5.0",
            "_view_name": "HTMLView",
            "description": "",
            "description_tooltip": null,
            "layout": "IPY_MODEL_ff0ee3c01aa04e9dab5b89314a77f93b",
            "placeholder": "​",
            "style": "IPY_MODEL_1f812a14d2d84d9c8e3202e0c0f8be47",
            "value": " 205/205 [00:00&lt;00:00, 10.7kB/s]"
          }
        },
        "7e09cd0f8c894b0f819ecf7f1b84f4aa": {
          "model_module": "@jupyter-widgets/base",
          "model_name": "LayoutModel",
          "model_module_version": "1.2.0",
          "state": {
            "_model_module": "@jupyter-widgets/base",
            "_model_module_version": "1.2.0",
            "_model_name": "LayoutModel",
            "_view_count": null,
            "_view_module": "@jupyter-widgets/base",
            "_view_module_version": "1.2.0",
            "_view_name": "LayoutView",
            "align_content": null,
            "align_items": null,
            "align_self": null,
            "border": null,
            "bottom": null,
            "display": null,
            "flex": null,
            "flex_flow": null,
            "grid_area": null,
            "grid_auto_columns": null,
            "grid_auto_flow": null,
            "grid_auto_rows": null,
            "grid_column": null,
            "grid_gap": null,
            "grid_row": null,
            "grid_template_areas": null,
            "grid_template_columns": null,
            "grid_template_rows": null,
            "height": null,
            "justify_content": null,
            "justify_items": null,
            "left": null,
            "margin": null,
            "max_height": null,
            "max_width": null,
            "min_height": null,
            "min_width": null,
            "object_fit": null,
            "object_position": null,
            "order": null,
            "overflow": null,
            "overflow_x": null,
            "overflow_y": null,
            "padding": null,
            "right": null,
            "top": null,
            "visibility": null,
            "width": null
          }
        },
        "93ff8a9dede84fa0bb393fb0e3302f1b": {
          "model_module": "@jupyter-widgets/base",
          "model_name": "LayoutModel",
          "model_module_version": "1.2.0",
          "state": {
            "_model_module": "@jupyter-widgets/base",
            "_model_module_version": "1.2.0",
            "_model_name": "LayoutModel",
            "_view_count": null,
            "_view_module": "@jupyter-widgets/base",
            "_view_module_version": "1.2.0",
            "_view_name": "LayoutView",
            "align_content": null,
            "align_items": null,
            "align_self": null,
            "border": null,
            "bottom": null,
            "display": null,
            "flex": null,
            "flex_flow": null,
            "grid_area": null,
            "grid_auto_columns": null,
            "grid_auto_flow": null,
            "grid_auto_rows": null,
            "grid_column": null,
            "grid_gap": null,
            "grid_row": null,
            "grid_template_areas": null,
            "grid_template_columns": null,
            "grid_template_rows": null,
            "height": null,
            "justify_content": null,
            "justify_items": null,
            "left": null,
            "margin": null,
            "max_height": null,
            "max_width": null,
            "min_height": null,
            "min_width": null,
            "object_fit": null,
            "object_position": null,
            "order": null,
            "overflow": null,
            "overflow_x": null,
            "overflow_y": null,
            "padding": null,
            "right": null,
            "top": null,
            "visibility": null,
            "width": null
          }
        },
        "030b9ef2b7d4476eb4b129994d3cc65c": {
          "model_module": "@jupyter-widgets/controls",
          "model_name": "DescriptionStyleModel",
          "model_module_version": "1.5.0",
          "state": {
            "_model_module": "@jupyter-widgets/controls",
            "_model_module_version": "1.5.0",
            "_model_name": "DescriptionStyleModel",
            "_view_count": null,
            "_view_module": "@jupyter-widgets/base",
            "_view_module_version": "1.2.0",
            "_view_name": "StyleView",
            "description_width": ""
          }
        },
        "9ca6960eea4b4ac7a73aef23780b4bbf": {
          "model_module": "@jupyter-widgets/base",
          "model_name": "LayoutModel",
          "model_module_version": "1.2.0",
          "state": {
            "_model_module": "@jupyter-widgets/base",
            "_model_module_version": "1.2.0",
            "_model_name": "LayoutModel",
            "_view_count": null,
            "_view_module": "@jupyter-widgets/base",
            "_view_module_version": "1.2.0",
            "_view_name": "LayoutView",
            "align_content": null,
            "align_items": null,
            "align_self": null,
            "border": null,
            "bottom": null,
            "display": null,
            "flex": null,
            "flex_flow": null,
            "grid_area": null,
            "grid_auto_columns": null,
            "grid_auto_flow": null,
            "grid_auto_rows": null,
            "grid_column": null,
            "grid_gap": null,
            "grid_row": null,
            "grid_template_areas": null,
            "grid_template_columns": null,
            "grid_template_rows": null,
            "height": null,
            "justify_content": null,
            "justify_items": null,
            "left": null,
            "margin": null,
            "max_height": null,
            "max_width": null,
            "min_height": null,
            "min_width": null,
            "object_fit": null,
            "object_position": null,
            "order": null,
            "overflow": null,
            "overflow_x": null,
            "overflow_y": null,
            "padding": null,
            "right": null,
            "top": null,
            "visibility": null,
            "width": null
          }
        },
        "6d6e3b71c029441289beed2488601ae6": {
          "model_module": "@jupyter-widgets/controls",
          "model_name": "ProgressStyleModel",
          "model_module_version": "1.5.0",
          "state": {
            "_model_module": "@jupyter-widgets/controls",
            "_model_module_version": "1.5.0",
            "_model_name": "ProgressStyleModel",
            "_view_count": null,
            "_view_module": "@jupyter-widgets/base",
            "_view_module_version": "1.2.0",
            "_view_name": "StyleView",
            "bar_color": null,
            "description_width": ""
          }
        },
        "ff0ee3c01aa04e9dab5b89314a77f93b": {
          "model_module": "@jupyter-widgets/base",
          "model_name": "LayoutModel",
          "model_module_version": "1.2.0",
          "state": {
            "_model_module": "@jupyter-widgets/base",
            "_model_module_version": "1.2.0",
            "_model_name": "LayoutModel",
            "_view_count": null,
            "_view_module": "@jupyter-widgets/base",
            "_view_module_version": "1.2.0",
            "_view_name": "LayoutView",
            "align_content": null,
            "align_items": null,
            "align_self": null,
            "border": null,
            "bottom": null,
            "display": null,
            "flex": null,
            "flex_flow": null,
            "grid_area": null,
            "grid_auto_columns": null,
            "grid_auto_flow": null,
            "grid_auto_rows": null,
            "grid_column": null,
            "grid_gap": null,
            "grid_row": null,
            "grid_template_areas": null,
            "grid_template_columns": null,
            "grid_template_rows": null,
            "height": null,
            "justify_content": null,
            "justify_items": null,
            "left": null,
            "margin": null,
            "max_height": null,
            "max_width": null,
            "min_height": null,
            "min_width": null,
            "object_fit": null,
            "object_position": null,
            "order": null,
            "overflow": null,
            "overflow_x": null,
            "overflow_y": null,
            "padding": null,
            "right": null,
            "top": null,
            "visibility": null,
            "width": null
          }
        },
        "1f812a14d2d84d9c8e3202e0c0f8be47": {
          "model_module": "@jupyter-widgets/controls",
          "model_name": "DescriptionStyleModel",
          "model_module_version": "1.5.0",
          "state": {
            "_model_module": "@jupyter-widgets/controls",
            "_model_module_version": "1.5.0",
            "_model_name": "DescriptionStyleModel",
            "_view_count": null,
            "_view_module": "@jupyter-widgets/base",
            "_view_module_version": "1.2.0",
            "_view_name": "StyleView",
            "description_width": ""
          }
        },
        "59f9f127e13047d3bd51cb376dd8b624": {
          "model_module": "@jupyter-widgets/controls",
          "model_name": "HBoxModel",
          "model_module_version": "1.5.0",
          "state": {
            "_dom_classes": [],
            "_model_module": "@jupyter-widgets/controls",
            "_model_module_version": "1.5.0",
            "_model_name": "HBoxModel",
            "_view_count": null,
            "_view_module": "@jupyter-widgets/controls",
            "_view_module_version": "1.5.0",
            "_view_name": "HBoxView",
            "box_style": "",
            "children": [
              "IPY_MODEL_e6fa463fb2524445942f93732ed6c30d",
              "IPY_MODEL_3b05f3588c9d46ccb7170b7d0d3d60d3",
              "IPY_MODEL_6ba1f1adc0e7437c9823981274dd5a48"
            ],
            "layout": "IPY_MODEL_4c509dde269945968847e1ed11f44af0"
          }
        },
        "e6fa463fb2524445942f93732ed6c30d": {
          "model_module": "@jupyter-widgets/controls",
          "model_name": "HTMLModel",
          "model_module_version": "1.5.0",
          "state": {
            "_dom_classes": [],
            "_model_module": "@jupyter-widgets/controls",
            "_model_module_version": "1.5.0",
            "_model_name": "HTMLModel",
            "_view_count": null,
            "_view_module": "@jupyter-widgets/controls",
            "_view_module_version": "1.5.0",
            "_view_name": "HTMLView",
            "description": "",
            "description_tooltip": null,
            "layout": "IPY_MODEL_9eeba942b82242d3a192f1ac0ac6565b",
            "placeholder": "​",
            "style": "IPY_MODEL_26f4f2d318074a43b4f4ee0113891cb1",
            "value": "Downloading tokenizer.model: 100%"
          }
        },
        "3b05f3588c9d46ccb7170b7d0d3d60d3": {
          "model_module": "@jupyter-widgets/controls",
          "model_name": "FloatProgressModel",
          "model_module_version": "1.5.0",
          "state": {
            "_dom_classes": [],
            "_model_module": "@jupyter-widgets/controls",
            "_model_module_version": "1.5.0",
            "_model_name": "FloatProgressModel",
            "_view_count": null,
            "_view_module": "@jupyter-widgets/controls",
            "_view_module_version": "1.5.0",
            "_view_name": "ProgressView",
            "bar_style": "success",
            "description": "",
            "description_tooltip": null,
            "layout": "IPY_MODEL_3a8becc36e0a4e6bb3d2dfc9b76f54d6",
            "max": 499723,
            "min": 0,
            "orientation": "horizontal",
            "style": "IPY_MODEL_e718347d55ea4e78a4b3e46766512a3b",
            "value": 499723
          }
        },
        "6ba1f1adc0e7437c9823981274dd5a48": {
          "model_module": "@jupyter-widgets/controls",
          "model_name": "HTMLModel",
          "model_module_version": "1.5.0",
          "state": {
            "_dom_classes": [],
            "_model_module": "@jupyter-widgets/controls",
            "_model_module_version": "1.5.0",
            "_model_name": "HTMLModel",
            "_view_count": null,
            "_view_module": "@jupyter-widgets/controls",
            "_view_module_version": "1.5.0",
            "_view_name": "HTMLView",
            "description": "",
            "description_tooltip": null,
            "layout": "IPY_MODEL_4506a04df4b24644a8b857aefce4aa9a",
            "placeholder": "​",
            "style": "IPY_MODEL_896cb675f6874c898504a2871e0abad7",
            "value": " 500k/500k [00:00&lt;00:00, 13.8MB/s]"
          }
        },
        "4c509dde269945968847e1ed11f44af0": {
          "model_module": "@jupyter-widgets/base",
          "model_name": "LayoutModel",
          "model_module_version": "1.2.0",
          "state": {
            "_model_module": "@jupyter-widgets/base",
            "_model_module_version": "1.2.0",
            "_model_name": "LayoutModel",
            "_view_count": null,
            "_view_module": "@jupyter-widgets/base",
            "_view_module_version": "1.2.0",
            "_view_name": "LayoutView",
            "align_content": null,
            "align_items": null,
            "align_self": null,
            "border": null,
            "bottom": null,
            "display": null,
            "flex": null,
            "flex_flow": null,
            "grid_area": null,
            "grid_auto_columns": null,
            "grid_auto_flow": null,
            "grid_auto_rows": null,
            "grid_column": null,
            "grid_gap": null,
            "grid_row": null,
            "grid_template_areas": null,
            "grid_template_columns": null,
            "grid_template_rows": null,
            "height": null,
            "justify_content": null,
            "justify_items": null,
            "left": null,
            "margin": null,
            "max_height": null,
            "max_width": null,
            "min_height": null,
            "min_width": null,
            "object_fit": null,
            "object_position": null,
            "order": null,
            "overflow": null,
            "overflow_x": null,
            "overflow_y": null,
            "padding": null,
            "right": null,
            "top": null,
            "visibility": null,
            "width": null
          }
        },
        "9eeba942b82242d3a192f1ac0ac6565b": {
          "model_module": "@jupyter-widgets/base",
          "model_name": "LayoutModel",
          "model_module_version": "1.2.0",
          "state": {
            "_model_module": "@jupyter-widgets/base",
            "_model_module_version": "1.2.0",
            "_model_name": "LayoutModel",
            "_view_count": null,
            "_view_module": "@jupyter-widgets/base",
            "_view_module_version": "1.2.0",
            "_view_name": "LayoutView",
            "align_content": null,
            "align_items": null,
            "align_self": null,
            "border": null,
            "bottom": null,
            "display": null,
            "flex": null,
            "flex_flow": null,
            "grid_area": null,
            "grid_auto_columns": null,
            "grid_auto_flow": null,
            "grid_auto_rows": null,
            "grid_column": null,
            "grid_gap": null,
            "grid_row": null,
            "grid_template_areas": null,
            "grid_template_columns": null,
            "grid_template_rows": null,
            "height": null,
            "justify_content": null,
            "justify_items": null,
            "left": null,
            "margin": null,
            "max_height": null,
            "max_width": null,
            "min_height": null,
            "min_width": null,
            "object_fit": null,
            "object_position": null,
            "order": null,
            "overflow": null,
            "overflow_x": null,
            "overflow_y": null,
            "padding": null,
            "right": null,
            "top": null,
            "visibility": null,
            "width": null
          }
        },
        "26f4f2d318074a43b4f4ee0113891cb1": {
          "model_module": "@jupyter-widgets/controls",
          "model_name": "DescriptionStyleModel",
          "model_module_version": "1.5.0",
          "state": {
            "_model_module": "@jupyter-widgets/controls",
            "_model_module_version": "1.5.0",
            "_model_name": "DescriptionStyleModel",
            "_view_count": null,
            "_view_module": "@jupyter-widgets/base",
            "_view_module_version": "1.2.0",
            "_view_name": "StyleView",
            "description_width": ""
          }
        },
        "3a8becc36e0a4e6bb3d2dfc9b76f54d6": {
          "model_module": "@jupyter-widgets/base",
          "model_name": "LayoutModel",
          "model_module_version": "1.2.0",
          "state": {
            "_model_module": "@jupyter-widgets/base",
            "_model_module_version": "1.2.0",
            "_model_name": "LayoutModel",
            "_view_count": null,
            "_view_module": "@jupyter-widgets/base",
            "_view_module_version": "1.2.0",
            "_view_name": "LayoutView",
            "align_content": null,
            "align_items": null,
            "align_self": null,
            "border": null,
            "bottom": null,
            "display": null,
            "flex": null,
            "flex_flow": null,
            "grid_area": null,
            "grid_auto_columns": null,
            "grid_auto_flow": null,
            "grid_auto_rows": null,
            "grid_column": null,
            "grid_gap": null,
            "grid_row": null,
            "grid_template_areas": null,
            "grid_template_columns": null,
            "grid_template_rows": null,
            "height": null,
            "justify_content": null,
            "justify_items": null,
            "left": null,
            "margin": null,
            "max_height": null,
            "max_width": null,
            "min_height": null,
            "min_width": null,
            "object_fit": null,
            "object_position": null,
            "order": null,
            "overflow": null,
            "overflow_x": null,
            "overflow_y": null,
            "padding": null,
            "right": null,
            "top": null,
            "visibility": null,
            "width": null
          }
        },
        "e718347d55ea4e78a4b3e46766512a3b": {
          "model_module": "@jupyter-widgets/controls",
          "model_name": "ProgressStyleModel",
          "model_module_version": "1.5.0",
          "state": {
            "_model_module": "@jupyter-widgets/controls",
            "_model_module_version": "1.5.0",
            "_model_name": "ProgressStyleModel",
            "_view_count": null,
            "_view_module": "@jupyter-widgets/base",
            "_view_module_version": "1.2.0",
            "_view_name": "StyleView",
            "bar_color": null,
            "description_width": ""
          }
        },
        "4506a04df4b24644a8b857aefce4aa9a": {
          "model_module": "@jupyter-widgets/base",
          "model_name": "LayoutModel",
          "model_module_version": "1.2.0",
          "state": {
            "_model_module": "@jupyter-widgets/base",
            "_model_module_version": "1.2.0",
            "_model_name": "LayoutModel",
            "_view_count": null,
            "_view_module": "@jupyter-widgets/base",
            "_view_module_version": "1.2.0",
            "_view_name": "LayoutView",
            "align_content": null,
            "align_items": null,
            "align_self": null,
            "border": null,
            "bottom": null,
            "display": null,
            "flex": null,
            "flex_flow": null,
            "grid_area": null,
            "grid_auto_columns": null,
            "grid_auto_flow": null,
            "grid_auto_rows": null,
            "grid_column": null,
            "grid_gap": null,
            "grid_row": null,
            "grid_template_areas": null,
            "grid_template_columns": null,
            "grid_template_rows": null,
            "height": null,
            "justify_content": null,
            "justify_items": null,
            "left": null,
            "margin": null,
            "max_height": null,
            "max_width": null,
            "min_height": null,
            "min_width": null,
            "object_fit": null,
            "object_position": null,
            "order": null,
            "overflow": null,
            "overflow_x": null,
            "overflow_y": null,
            "padding": null,
            "right": null,
            "top": null,
            "visibility": null,
            "width": null
          }
        },
        "896cb675f6874c898504a2871e0abad7": {
          "model_module": "@jupyter-widgets/controls",
          "model_name": "DescriptionStyleModel",
          "model_module_version": "1.5.0",
          "state": {
            "_model_module": "@jupyter-widgets/controls",
            "_model_module_version": "1.5.0",
            "_model_name": "DescriptionStyleModel",
            "_view_count": null,
            "_view_module": "@jupyter-widgets/base",
            "_view_module_version": "1.2.0",
            "_view_name": "StyleView",
            "description_width": ""
          }
        },
        "f3c4f958d6fd452db90d66ce461a55eb": {
          "model_module": "@jupyter-widgets/controls",
          "model_name": "HBoxModel",
          "model_module_version": "1.5.0",
          "state": {
            "_dom_classes": [],
            "_model_module": "@jupyter-widgets/controls",
            "_model_module_version": "1.5.0",
            "_model_name": "HBoxModel",
            "_view_count": null,
            "_view_module": "@jupyter-widgets/controls",
            "_view_module_version": "1.5.0",
            "_view_name": "HBoxView",
            "box_style": "",
            "children": [
              "IPY_MODEL_6446c39dd6ca4c0ebb98da66b7600751",
              "IPY_MODEL_ed478268e3c44fde93492cbf97b1ea1d",
              "IPY_MODEL_756d9a0a152148bba76fc764b7fd2853"
            ],
            "layout": "IPY_MODEL_4502b59b3d334cf789990c49cb8b4411"
          }
        },
        "6446c39dd6ca4c0ebb98da66b7600751": {
          "model_module": "@jupyter-widgets/controls",
          "model_name": "HTMLModel",
          "model_module_version": "1.5.0",
          "state": {
            "_dom_classes": [],
            "_model_module": "@jupyter-widgets/controls",
            "_model_module_version": "1.5.0",
            "_model_name": "HTMLModel",
            "_view_count": null,
            "_view_module": "@jupyter-widgets/controls",
            "_view_module_version": "1.5.0",
            "_view_name": "HTMLView",
            "description": "",
            "description_tooltip": null,
            "layout": "IPY_MODEL_4dfb9bba89ca44f3bac916da88384c25",
            "placeholder": "​",
            "style": "IPY_MODEL_012c478b9ff642fabc2ae661d9c73ed4",
            "value": "Downloading (…)cial_tokens_map.json: 100%"
          }
        },
        "ed478268e3c44fde93492cbf97b1ea1d": {
          "model_module": "@jupyter-widgets/controls",
          "model_name": "FloatProgressModel",
          "model_module_version": "1.5.0",
          "state": {
            "_dom_classes": [],
            "_model_module": "@jupyter-widgets/controls",
            "_model_module_version": "1.5.0",
            "_model_name": "FloatProgressModel",
            "_view_count": null,
            "_view_module": "@jupyter-widgets/controls",
            "_view_module_version": "1.5.0",
            "_view_name": "ProgressView",
            "bar_style": "success",
            "description": "",
            "description_tooltip": null,
            "layout": "IPY_MODEL_34a26d2736974fecba409dda3ddf0aeb",
            "max": 3,
            "min": 0,
            "orientation": "horizontal",
            "style": "IPY_MODEL_f14b25038d8045d78e0a4df451489730",
            "value": 3
          }
        },
        "756d9a0a152148bba76fc764b7fd2853": {
          "model_module": "@jupyter-widgets/controls",
          "model_name": "HTMLModel",
          "model_module_version": "1.5.0",
          "state": {
            "_dom_classes": [],
            "_model_module": "@jupyter-widgets/controls",
            "_model_module_version": "1.5.0",
            "_model_name": "HTMLModel",
            "_view_count": null,
            "_view_module": "@jupyter-widgets/controls",
            "_view_module_version": "1.5.0",
            "_view_name": "HTMLView",
            "description": "",
            "description_tooltip": null,
            "layout": "IPY_MODEL_51fbd555d44647128034f1dd3d43681b",
            "placeholder": "​",
            "style": "IPY_MODEL_f320dc6228c24522b7310e0a99673b10",
            "value": " 3.00/3.00 [00:00&lt;00:00, 194B/s]"
          }
        },
        "4502b59b3d334cf789990c49cb8b4411": {
          "model_module": "@jupyter-widgets/base",
          "model_name": "LayoutModel",
          "model_module_version": "1.2.0",
          "state": {
            "_model_module": "@jupyter-widgets/base",
            "_model_module_version": "1.2.0",
            "_model_name": "LayoutModel",
            "_view_count": null,
            "_view_module": "@jupyter-widgets/base",
            "_view_module_version": "1.2.0",
            "_view_name": "LayoutView",
            "align_content": null,
            "align_items": null,
            "align_self": null,
            "border": null,
            "bottom": null,
            "display": null,
            "flex": null,
            "flex_flow": null,
            "grid_area": null,
            "grid_auto_columns": null,
            "grid_auto_flow": null,
            "grid_auto_rows": null,
            "grid_column": null,
            "grid_gap": null,
            "grid_row": null,
            "grid_template_areas": null,
            "grid_template_columns": null,
            "grid_template_rows": null,
            "height": null,
            "justify_content": null,
            "justify_items": null,
            "left": null,
            "margin": null,
            "max_height": null,
            "max_width": null,
            "min_height": null,
            "min_width": null,
            "object_fit": null,
            "object_position": null,
            "order": null,
            "overflow": null,
            "overflow_x": null,
            "overflow_y": null,
            "padding": null,
            "right": null,
            "top": null,
            "visibility": null,
            "width": null
          }
        },
        "4dfb9bba89ca44f3bac916da88384c25": {
          "model_module": "@jupyter-widgets/base",
          "model_name": "LayoutModel",
          "model_module_version": "1.2.0",
          "state": {
            "_model_module": "@jupyter-widgets/base",
            "_model_module_version": "1.2.0",
            "_model_name": "LayoutModel",
            "_view_count": null,
            "_view_module": "@jupyter-widgets/base",
            "_view_module_version": "1.2.0",
            "_view_name": "LayoutView",
            "align_content": null,
            "align_items": null,
            "align_self": null,
            "border": null,
            "bottom": null,
            "display": null,
            "flex": null,
            "flex_flow": null,
            "grid_area": null,
            "grid_auto_columns": null,
            "grid_auto_flow": null,
            "grid_auto_rows": null,
            "grid_column": null,
            "grid_gap": null,
            "grid_row": null,
            "grid_template_areas": null,
            "grid_template_columns": null,
            "grid_template_rows": null,
            "height": null,
            "justify_content": null,
            "justify_items": null,
            "left": null,
            "margin": null,
            "max_height": null,
            "max_width": null,
            "min_height": null,
            "min_width": null,
            "object_fit": null,
            "object_position": null,
            "order": null,
            "overflow": null,
            "overflow_x": null,
            "overflow_y": null,
            "padding": null,
            "right": null,
            "top": null,
            "visibility": null,
            "width": null
          }
        },
        "012c478b9ff642fabc2ae661d9c73ed4": {
          "model_module": "@jupyter-widgets/controls",
          "model_name": "DescriptionStyleModel",
          "model_module_version": "1.5.0",
          "state": {
            "_model_module": "@jupyter-widgets/controls",
            "_model_module_version": "1.5.0",
            "_model_name": "DescriptionStyleModel",
            "_view_count": null,
            "_view_module": "@jupyter-widgets/base",
            "_view_module_version": "1.2.0",
            "_view_name": "StyleView",
            "description_width": ""
          }
        },
        "34a26d2736974fecba409dda3ddf0aeb": {
          "model_module": "@jupyter-widgets/base",
          "model_name": "LayoutModel",
          "model_module_version": "1.2.0",
          "state": {
            "_model_module": "@jupyter-widgets/base",
            "_model_module_version": "1.2.0",
            "_model_name": "LayoutModel",
            "_view_count": null,
            "_view_module": "@jupyter-widgets/base",
            "_view_module_version": "1.2.0",
            "_view_name": "LayoutView",
            "align_content": null,
            "align_items": null,
            "align_self": null,
            "border": null,
            "bottom": null,
            "display": null,
            "flex": null,
            "flex_flow": null,
            "grid_area": null,
            "grid_auto_columns": null,
            "grid_auto_flow": null,
            "grid_auto_rows": null,
            "grid_column": null,
            "grid_gap": null,
            "grid_row": null,
            "grid_template_areas": null,
            "grid_template_columns": null,
            "grid_template_rows": null,
            "height": null,
            "justify_content": null,
            "justify_items": null,
            "left": null,
            "margin": null,
            "max_height": null,
            "max_width": null,
            "min_height": null,
            "min_width": null,
            "object_fit": null,
            "object_position": null,
            "order": null,
            "overflow": null,
            "overflow_x": null,
            "overflow_y": null,
            "padding": null,
            "right": null,
            "top": null,
            "visibility": null,
            "width": null
          }
        },
        "f14b25038d8045d78e0a4df451489730": {
          "model_module": "@jupyter-widgets/controls",
          "model_name": "ProgressStyleModel",
          "model_module_version": "1.5.0",
          "state": {
            "_model_module": "@jupyter-widgets/controls",
            "_model_module_version": "1.5.0",
            "_model_name": "ProgressStyleModel",
            "_view_count": null,
            "_view_module": "@jupyter-widgets/base",
            "_view_module_version": "1.2.0",
            "_view_name": "StyleView",
            "bar_color": null,
            "description_width": ""
          }
        },
        "51fbd555d44647128034f1dd3d43681b": {
          "model_module": "@jupyter-widgets/base",
          "model_name": "LayoutModel",
          "model_module_version": "1.2.0",
          "state": {
            "_model_module": "@jupyter-widgets/base",
            "_model_module_version": "1.2.0",
            "_model_name": "LayoutModel",
            "_view_count": null,
            "_view_module": "@jupyter-widgets/base",
            "_view_module_version": "1.2.0",
            "_view_name": "LayoutView",
            "align_content": null,
            "align_items": null,
            "align_self": null,
            "border": null,
            "bottom": null,
            "display": null,
            "flex": null,
            "flex_flow": null,
            "grid_area": null,
            "grid_auto_columns": null,
            "grid_auto_flow": null,
            "grid_auto_rows": null,
            "grid_column": null,
            "grid_gap": null,
            "grid_row": null,
            "grid_template_areas": null,
            "grid_template_columns": null,
            "grid_template_rows": null,
            "height": null,
            "justify_content": null,
            "justify_items": null,
            "left": null,
            "margin": null,
            "max_height": null,
            "max_width": null,
            "min_height": null,
            "min_width": null,
            "object_fit": null,
            "object_position": null,
            "order": null,
            "overflow": null,
            "overflow_x": null,
            "overflow_y": null,
            "padding": null,
            "right": null,
            "top": null,
            "visibility": null,
            "width": null
          }
        },
        "f320dc6228c24522b7310e0a99673b10": {
          "model_module": "@jupyter-widgets/controls",
          "model_name": "DescriptionStyleModel",
          "model_module_version": "1.5.0",
          "state": {
            "_model_module": "@jupyter-widgets/controls",
            "_model_module_version": "1.5.0",
            "_model_name": "DescriptionStyleModel",
            "_view_count": null,
            "_view_module": "@jupyter-widgets/base",
            "_view_module_version": "1.2.0",
            "_view_name": "StyleView",
            "description_width": ""
          }
        },
        "f7c403c8dd8748448c61a5f56c988e56": {
          "model_module": "@jupyter-widgets/controls",
          "model_name": "HBoxModel",
          "model_module_version": "1.5.0",
          "state": {
            "_dom_classes": [],
            "_model_module": "@jupyter-widgets/controls",
            "_model_module_version": "1.5.0",
            "_model_name": "HBoxModel",
            "_view_count": null,
            "_view_module": "@jupyter-widgets/controls",
            "_view_module_version": "1.5.0",
            "_view_name": "HBoxView",
            "box_style": "",
            "children": [
              "IPY_MODEL_7991c98f0e504bb29748de935546c922",
              "IPY_MODEL_bd1faedd4fb74fb582e2f0468139330d",
              "IPY_MODEL_b6a12d8700a14b038e882a035e08a105"
            ],
            "layout": "IPY_MODEL_5e73e97b51104c6b9941f8f7541d6f8c"
          }
        },
        "7991c98f0e504bb29748de935546c922": {
          "model_module": "@jupyter-widgets/controls",
          "model_name": "HTMLModel",
          "model_module_version": "1.5.0",
          "state": {
            "_dom_classes": [],
            "_model_module": "@jupyter-widgets/controls",
            "_model_module_version": "1.5.0",
            "_model_name": "HTMLModel",
            "_view_count": null,
            "_view_module": "@jupyter-widgets/controls",
            "_view_module_version": "1.5.0",
            "_view_name": "HTMLView",
            "description": "",
            "description_tooltip": null,
            "layout": "IPY_MODEL_f44c9cdcdb7440c68c72aadc25781e24",
            "placeholder": "​",
            "style": "IPY_MODEL_c781925016754d76b6b358fa3178aa04",
            "value": "Downloading adapter_model.bin: 100%"
          }
        },
        "bd1faedd4fb74fb582e2f0468139330d": {
          "model_module": "@jupyter-widgets/controls",
          "model_name": "FloatProgressModel",
          "model_module_version": "1.5.0",
          "state": {
            "_dom_classes": [],
            "_model_module": "@jupyter-widgets/controls",
            "_model_module_version": "1.5.0",
            "_model_name": "FloatProgressModel",
            "_view_count": null,
            "_view_module": "@jupyter-widgets/controls",
            "_view_module_version": "1.5.0",
            "_view_name": "ProgressView",
            "bar_style": "success",
            "description": "",
            "description_tooltip": null,
            "layout": "IPY_MODEL_3a2d4e2d71f146ed957b98b740c85122",
            "max": 8408957,
            "min": 0,
            "orientation": "horizontal",
            "style": "IPY_MODEL_105293ef67fe4e91bbc723f48ffa8fb4",
            "value": 8408957
          }
        },
        "b6a12d8700a14b038e882a035e08a105": {
          "model_module": "@jupyter-widgets/controls",
          "model_name": "HTMLModel",
          "model_module_version": "1.5.0",
          "state": {
            "_dom_classes": [],
            "_model_module": "@jupyter-widgets/controls",
            "_model_module_version": "1.5.0",
            "_model_name": "HTMLModel",
            "_view_count": null,
            "_view_module": "@jupyter-widgets/controls",
            "_view_module_version": "1.5.0",
            "_view_name": "HTMLView",
            "description": "",
            "description_tooltip": null,
            "layout": "IPY_MODEL_c200861aba11446eb26d66f3c44a547a",
            "placeholder": "​",
            "style": "IPY_MODEL_991c61f0a8754239a523e4bf6496c479",
            "value": " 8.41M/8.41M [00:00&lt;00:00, 82.1MB/s]"
          }
        },
        "5e73e97b51104c6b9941f8f7541d6f8c": {
          "model_module": "@jupyter-widgets/base",
          "model_name": "LayoutModel",
          "model_module_version": "1.2.0",
          "state": {
            "_model_module": "@jupyter-widgets/base",
            "_model_module_version": "1.2.0",
            "_model_name": "LayoutModel",
            "_view_count": null,
            "_view_module": "@jupyter-widgets/base",
            "_view_module_version": "1.2.0",
            "_view_name": "LayoutView",
            "align_content": null,
            "align_items": null,
            "align_self": null,
            "border": null,
            "bottom": null,
            "display": null,
            "flex": null,
            "flex_flow": null,
            "grid_area": null,
            "grid_auto_columns": null,
            "grid_auto_flow": null,
            "grid_auto_rows": null,
            "grid_column": null,
            "grid_gap": null,
            "grid_row": null,
            "grid_template_areas": null,
            "grid_template_columns": null,
            "grid_template_rows": null,
            "height": null,
            "justify_content": null,
            "justify_items": null,
            "left": null,
            "margin": null,
            "max_height": null,
            "max_width": null,
            "min_height": null,
            "min_width": null,
            "object_fit": null,
            "object_position": null,
            "order": null,
            "overflow": null,
            "overflow_x": null,
            "overflow_y": null,
            "padding": null,
            "right": null,
            "top": null,
            "visibility": null,
            "width": null
          }
        },
        "f44c9cdcdb7440c68c72aadc25781e24": {
          "model_module": "@jupyter-widgets/base",
          "model_name": "LayoutModel",
          "model_module_version": "1.2.0",
          "state": {
            "_model_module": "@jupyter-widgets/base",
            "_model_module_version": "1.2.0",
            "_model_name": "LayoutModel",
            "_view_count": null,
            "_view_module": "@jupyter-widgets/base",
            "_view_module_version": "1.2.0",
            "_view_name": "LayoutView",
            "align_content": null,
            "align_items": null,
            "align_self": null,
            "border": null,
            "bottom": null,
            "display": null,
            "flex": null,
            "flex_flow": null,
            "grid_area": null,
            "grid_auto_columns": null,
            "grid_auto_flow": null,
            "grid_auto_rows": null,
            "grid_column": null,
            "grid_gap": null,
            "grid_row": null,
            "grid_template_areas": null,
            "grid_template_columns": null,
            "grid_template_rows": null,
            "height": null,
            "justify_content": null,
            "justify_items": null,
            "left": null,
            "margin": null,
            "max_height": null,
            "max_width": null,
            "min_height": null,
            "min_width": null,
            "object_fit": null,
            "object_position": null,
            "order": null,
            "overflow": null,
            "overflow_x": null,
            "overflow_y": null,
            "padding": null,
            "right": null,
            "top": null,
            "visibility": null,
            "width": null
          }
        },
        "c781925016754d76b6b358fa3178aa04": {
          "model_module": "@jupyter-widgets/controls",
          "model_name": "DescriptionStyleModel",
          "model_module_version": "1.5.0",
          "state": {
            "_model_module": "@jupyter-widgets/controls",
            "_model_module_version": "1.5.0",
            "_model_name": "DescriptionStyleModel",
            "_view_count": null,
            "_view_module": "@jupyter-widgets/base",
            "_view_module_version": "1.2.0",
            "_view_name": "StyleView",
            "description_width": ""
          }
        },
        "3a2d4e2d71f146ed957b98b740c85122": {
          "model_module": "@jupyter-widgets/base",
          "model_name": "LayoutModel",
          "model_module_version": "1.2.0",
          "state": {
            "_model_module": "@jupyter-widgets/base",
            "_model_module_version": "1.2.0",
            "_model_name": "LayoutModel",
            "_view_count": null,
            "_view_module": "@jupyter-widgets/base",
            "_view_module_version": "1.2.0",
            "_view_name": "LayoutView",
            "align_content": null,
            "align_items": null,
            "align_self": null,
            "border": null,
            "bottom": null,
            "display": null,
            "flex": null,
            "flex_flow": null,
            "grid_area": null,
            "grid_auto_columns": null,
            "grid_auto_flow": null,
            "grid_auto_rows": null,
            "grid_column": null,
            "grid_gap": null,
            "grid_row": null,
            "grid_template_areas": null,
            "grid_template_columns": null,
            "grid_template_rows": null,
            "height": null,
            "justify_content": null,
            "justify_items": null,
            "left": null,
            "margin": null,
            "max_height": null,
            "max_width": null,
            "min_height": null,
            "min_width": null,
            "object_fit": null,
            "object_position": null,
            "order": null,
            "overflow": null,
            "overflow_x": null,
            "overflow_y": null,
            "padding": null,
            "right": null,
            "top": null,
            "visibility": null,
            "width": null
          }
        },
        "105293ef67fe4e91bbc723f48ffa8fb4": {
          "model_module": "@jupyter-widgets/controls",
          "model_name": "ProgressStyleModel",
          "model_module_version": "1.5.0",
          "state": {
            "_model_module": "@jupyter-widgets/controls",
            "_model_module_version": "1.5.0",
            "_model_name": "ProgressStyleModel",
            "_view_count": null,
            "_view_module": "@jupyter-widgets/base",
            "_view_module_version": "1.2.0",
            "_view_name": "StyleView",
            "bar_color": null,
            "description_width": ""
          }
        },
        "c200861aba11446eb26d66f3c44a547a": {
          "model_module": "@jupyter-widgets/base",
          "model_name": "LayoutModel",
          "model_module_version": "1.2.0",
          "state": {
            "_model_module": "@jupyter-widgets/base",
            "_model_module_version": "1.2.0",
            "_model_name": "LayoutModel",
            "_view_count": null,
            "_view_module": "@jupyter-widgets/base",
            "_view_module_version": "1.2.0",
            "_view_name": "LayoutView",
            "align_content": null,
            "align_items": null,
            "align_self": null,
            "border": null,
            "bottom": null,
            "display": null,
            "flex": null,
            "flex_flow": null,
            "grid_area": null,
            "grid_auto_columns": null,
            "grid_auto_flow": null,
            "grid_auto_rows": null,
            "grid_column": null,
            "grid_gap": null,
            "grid_row": null,
            "grid_template_areas": null,
            "grid_template_columns": null,
            "grid_template_rows": null,
            "height": null,
            "justify_content": null,
            "justify_items": null,
            "left": null,
            "margin": null,
            "max_height": null,
            "max_width": null,
            "min_height": null,
            "min_width": null,
            "object_fit": null,
            "object_position": null,
            "order": null,
            "overflow": null,
            "overflow_x": null,
            "overflow_y": null,
            "padding": null,
            "right": null,
            "top": null,
            "visibility": null,
            "width": null
          }
        },
        "991c61f0a8754239a523e4bf6496c479": {
          "model_module": "@jupyter-widgets/controls",
          "model_name": "DescriptionStyleModel",
          "model_module_version": "1.5.0",
          "state": {
            "_model_module": "@jupyter-widgets/controls",
            "_model_module_version": "1.5.0",
            "_model_name": "DescriptionStyleModel",
            "_view_count": null,
            "_view_module": "@jupyter-widgets/base",
            "_view_module_version": "1.2.0",
            "_view_name": "StyleView",
            "description_width": ""
          }
        }
      }
    }
  },
  "cells": [
    {
      "cell_type": "markdown",
      "metadata": {
        "id": "view-in-github",
        "colab_type": "text"
      },
      "source": [
        "<a href=\"https://colab.research.google.com/github/plaban1981/LLMs-Large-Language-Model/blob/main/GPT4all.ipynb\" target=\"_parent\"><img src=\"https://colab.research.google.com/assets/colab-badge.svg\" alt=\"Open In Colab\"/></a>"
      ]
    },
    {
      "cell_type": "code",
      "execution_count": 2,
      "metadata": {
        "colab": {
          "base_uri": "https://localhost:8080/"
        },
        "id": "MDTFFpfAjHp3",
        "outputId": "c83dbc4a-976d-4286-f94a-f9a7d308dfd0"
      },
      "outputs": [
        {
          "output_type": "stream",
          "name": "stdout",
          "text": [
            "\u001b[2K     \u001b[90m━━━━━━━━━━━━━━━━━━━━━━━━━━━━━━━━━━━━━━━━\u001b[0m \u001b[32m1.3/1.3 MB\u001b[0m \u001b[31m59.7 MB/s\u001b[0m eta \u001b[36m0:00:00\u001b[0m\n",
            "\u001b[2K     \u001b[90m━━━━━━━━━━━━━━━━━━━━━━━━━━━━━━━━━━━━━━━━\u001b[0m \u001b[32m1.0/1.0 MB\u001b[0m \u001b[31m73.0 MB/s\u001b[0m eta \u001b[36m0:00:00\u001b[0m\n",
            "\u001b[2K     \u001b[90m━━━━━━━━━━━━━━━━━━━━━━━━━━━━━━━━━━━━━━\u001b[0m \u001b[32m110.5/110.5 KB\u001b[0m \u001b[31m15.0 MB/s\u001b[0m eta \u001b[36m0:00:00\u001b[0m\n",
            "\u001b[2K     \u001b[90m━━━━━━━━━━━━━━━━━━━━━━━━━━━━━━━━━━━━━━\u001b[0m \u001b[32m212.2/212.2 KB\u001b[0m \u001b[31m26.5 MB/s\u001b[0m eta \u001b[36m0:00:00\u001b[0m\n",
            "\u001b[2K     \u001b[90m━━━━━━━━━━━━━━━━━━━━━━━━━━━━━━━━━━━━━━\u001b[0m \u001b[32m199.8/199.8 KB\u001b[0m \u001b[31m23.1 MB/s\u001b[0m eta \u001b[36m0:00:00\u001b[0m\n",
            "\u001b[2K     \u001b[90m━━━━━━━━━━━━━━━━━━━━━━━━━━━━━━━━━━━━━━━\u001b[0m \u001b[32m132.9/132.9 KB\u001b[0m \u001b[31m8.4 MB/s\u001b[0m eta \u001b[36m0:00:00\u001b[0m\n",
            "\u001b[2K     \u001b[90m━━━━━━━━━━━━━━━━━━━━━━━━━━━━━━━━━━━━━━\u001b[0m \u001b[32m158.8/158.8 KB\u001b[0m \u001b[31m21.3 MB/s\u001b[0m eta \u001b[36m0:00:00\u001b[0m\n",
            "\u001b[2K     \u001b[90m━━━━━━━━━━━━━━━━━━━━━━━━━━━━━━━━━━━━━━\u001b[0m \u001b[32m264.6/264.6 KB\u001b[0m \u001b[31m30.8 MB/s\u001b[0m eta \u001b[36m0:00:00\u001b[0m\n",
            "\u001b[2K     \u001b[90m━━━━━━━━━━━━━━━━━━━━━━━━━━━━━━━━━━━━━━\u001b[0m \u001b[32m114.2/114.2 KB\u001b[0m \u001b[31m13.7 MB/s\u001b[0m eta \u001b[36m0:00:00\u001b[0m\n",
            "\u001b[?25h"
          ]
        }
      ],
      "source": [
        "!pip install -q datasets loralib sentencepiece"
      ]
    },
    {
      "cell_type": "code",
      "source": [
        "!pip uninstall transformers\n",
        "!pip -q install git+https://github.com/huggingface/transformers # need to install from github\n",
        "!pip -q install git+https://github.com/huggingface/peft.git\n",
        "!pip -q install bitsandbytes"
      ],
      "metadata": {
        "colab": {
          "base_uri": "https://localhost:8080/"
        },
        "id": "tH4znfNej-46",
        "outputId": "bb0f4330-92fd-4429-973e-29680b950f51"
      },
      "execution_count": 3,
      "outputs": [
        {
          "output_type": "stream",
          "name": "stdout",
          "text": [
            "\u001b[33mWARNING: Skipping transformers as it is not installed.\u001b[0m\u001b[33m\n",
            "\u001b[0m  Installing build dependencies ... \u001b[?25l\u001b[?25hdone\n",
            "  Getting requirements to build wheel ... \u001b[?25l\u001b[?25hdone\n",
            "  Preparing metadata (pyproject.toml) ... \u001b[?25l\u001b[?25hdone\n",
            "\u001b[2K     \u001b[90m━━━━━━━━━━━━━━━━━━━━━━━━━━━━━━━━━━━━━━━━\u001b[0m \u001b[32m7.6/7.6 MB\u001b[0m \u001b[31m79.6 MB/s\u001b[0m eta \u001b[36m0:00:00\u001b[0m\n",
            "\u001b[?25h  Building wheel for transformers (pyproject.toml) ... \u001b[?25l\u001b[?25hdone\n",
            "  Installing build dependencies ... \u001b[?25l\u001b[?25hdone\n",
            "  Getting requirements to build wheel ... \u001b[?25l\u001b[?25hdone\n",
            "  Preparing metadata (pyproject.toml) ... \u001b[?25l\u001b[?25hdone\n",
            "\u001b[2K     \u001b[90m━━━━━━━━━━━━━━━━━━━━━━━━━━━━━━━━━━━━━━\u001b[0m \u001b[32m215.3/215.3 KB\u001b[0m \u001b[31m15.2 MB/s\u001b[0m eta \u001b[36m0:00:00\u001b[0m\n",
            "\u001b[?25h  Building wheel for peft (pyproject.toml) ... \u001b[?25l\u001b[?25hdone\n",
            "\u001b[2K     \u001b[90m━━━━━━━━━━━━━━━━━━━━━━━━━━━━━━━━━━━━━━━━\u001b[0m \u001b[32m84.2/84.2 MB\u001b[0m \u001b[31m11.8 MB/s\u001b[0m eta \u001b[36m0:00:00\u001b[0m\n",
            "\u001b[?25h"
          ]
        }
      ]
    },
    {
      "cell_type": "code",
      "source": [
        "import torch\n",
        "from peft import PeftModel,PeftConfig\n",
        "from transformers import AutoModelForCausalLM,AutoTokenizer,GenerationConfig\n",
        "import textwrap\n"
      ],
      "metadata": {
        "colab": {
          "base_uri": "https://localhost:8080/"
        },
        "id": "XbN-P_OpkB_h",
        "outputId": "7a20d010-0cbd-4934-c362-fc587fafe6ce"
      },
      "execution_count": 4,
      "outputs": [
        {
          "output_type": "stream",
          "name": "stdout",
          "text": [
            "\n",
            "===================================BUG REPORT===================================\n",
            "Welcome to bitsandbytes. For bug reports, please submit your error trace to: https://github.com/TimDettmers/bitsandbytes/issues\n",
            "================================================================================\n",
            "CUDA_SETUP: WARNING! libcudart.so not found in any environmental path. Searching /usr/local/cuda/lib64...\n",
            "CUDA SETUP: CUDA runtime path found: /usr/local/cuda/lib64/libcudart.so\n",
            "CUDA SETUP: Highest compute capability among GPUs detected: 7.5\n",
            "CUDA SETUP: Detected CUDA version 118\n",
            "CUDA SETUP: Loading binary /usr/local/lib/python3.9/dist-packages/bitsandbytes/libbitsandbytes_cuda118.so...\n"
          ]
        },
        {
          "output_type": "stream",
          "name": "stderr",
          "text": [
            "/usr/local/lib/python3.9/dist-packages/bitsandbytes/cuda_setup/main.py:136: UserWarning: /usr/lib64-nvidia did not contain libcudart.so as expected! Searching further paths...\n",
            "  warn(msg)\n",
            "/usr/local/lib/python3.9/dist-packages/bitsandbytes/cuda_setup/main.py:136: UserWarning: WARNING: The following directories listed in your path were found to be non-existent: {PosixPath('/sys/fs/cgroup/memory.events /var/colab/cgroup/jupyter-children/memory.events')}\n",
            "  warn(msg)\n",
            "/usr/local/lib/python3.9/dist-packages/bitsandbytes/cuda_setup/main.py:136: UserWarning: WARNING: The following directories listed in your path were found to be non-existent: {PosixPath('--listen_host=172.28.0.12 --target_host=172.28.0.12 --tunnel_background_save_url=https'), PosixPath('//colab.research.google.com/tun/m/cc48301118ce562b961b3c22d803539adc1e0c19/gpu-t4-s-cp78u4bfsncu --tunnel_background_save_delay=10s --tunnel_periodic_background_save_frequency=30m0s --enable_output_coalescing=true --output_coalescing_required=true')}\n",
            "  warn(msg)\n",
            "/usr/local/lib/python3.9/dist-packages/bitsandbytes/cuda_setup/main.py:136: UserWarning: WARNING: The following directories listed in your path were found to be non-existent: {PosixPath('/env/python')}\n",
            "  warn(msg)\n",
            "/usr/local/lib/python3.9/dist-packages/bitsandbytes/cuda_setup/main.py:136: UserWarning: WARNING: The following directories listed in your path were found to be non-existent: {PosixPath('//ipykernel.pylab.backend_inline'), PosixPath('module')}\n",
            "  warn(msg)\n"
          ]
        }
      ]
    },
    {
      "cell_type": "code",
      "source": [
        "peft_model_id = \"nomic-ai/gpt4all-lora\"\n",
        "config = PeftConfig.from_pretrained(peft_model_id)\n",
        "#\n",
        "model = AutoModelForCausalLM.from_pretrained(config.base_model_name_or_path,\n",
        "                                             return_dict=True,\n",
        "                                             load_in_8bit=True,\n",
        "                                             device_map=\"auto\")\n",
        "#\n",
        "tokenizer = AutoTokenizer.from_pretrained(config.base_model_name_or_path)"
      ],
      "metadata": {
        "colab": {
          "base_uri": "https://localhost:8080/",
          "height": 214,
          "referenced_widgets": [
            "46cbacac599541d8baff4a271b6bc5f5",
            "7bcafcccd1814ba9b1062098617d2cac",
            "b0acc51add8742ec9591634a476f8c48",
            "c9cfb6a3977a4eb8ae303d41e763b832",
            "e9250cf1dd094822bff5ca3c2ecfa5d6",
            "7c6411687e66492d8bca95c7cb9d8175",
            "ec1068ff347f4f93ac8eb7da777b923a",
            "a94ff415a23046bd97f6c3f103fc0ee4",
            "5c42941ec69e40f6a55001444bcf82cf",
            "134bf53683154e65af2a436a8400cb4f",
            "3104a895798f4400b34645c659551e7f",
            "56788ab960b243f9b54768daf0784e12",
            "da7b32415fcf4d889e586aff0a3a9278",
            "86f46e5906ff47e38ee45f2b65c4a6e5",
            "29a381259e2c4ba1bbac13f12bd19505",
            "13f11d227db5428aab03d57218e9b7c6",
            "536ffb0ebffb43e991f1bdea465b6278",
            "9b2ecf2405a8426ca3e25918b2ed5eb8",
            "47dff913648f4e3cb80bd6160c18bad6",
            "df8584032a174bda9111b4e4e36cb551",
            "afff169395834f73913dc653afb73f6d",
            "401eb6e4bd554cc29f765afc5e9ca5de",
            "c131a298c101476da5bb1cc8bcc4e693",
            "12da84bbc61d4d519c1e37f3ca3d3f88",
            "98b89b6c6bc34cec9834a92695d428b5",
            "71555f9f74614b5ebd2d73912598004f",
            "7e09cd0f8c894b0f819ecf7f1b84f4aa",
            "93ff8a9dede84fa0bb393fb0e3302f1b",
            "030b9ef2b7d4476eb4b129994d3cc65c",
            "9ca6960eea4b4ac7a73aef23780b4bbf",
            "6d6e3b71c029441289beed2488601ae6",
            "ff0ee3c01aa04e9dab5b89314a77f93b",
            "1f812a14d2d84d9c8e3202e0c0f8be47",
            "59f9f127e13047d3bd51cb376dd8b624",
            "e6fa463fb2524445942f93732ed6c30d",
            "3b05f3588c9d46ccb7170b7d0d3d60d3",
            "6ba1f1adc0e7437c9823981274dd5a48",
            "4c509dde269945968847e1ed11f44af0",
            "9eeba942b82242d3a192f1ac0ac6565b",
            "26f4f2d318074a43b4f4ee0113891cb1",
            "3a8becc36e0a4e6bb3d2dfc9b76f54d6",
            "e718347d55ea4e78a4b3e46766512a3b",
            "4506a04df4b24644a8b857aefce4aa9a",
            "896cb675f6874c898504a2871e0abad7",
            "f3c4f958d6fd452db90d66ce461a55eb",
            "6446c39dd6ca4c0ebb98da66b7600751",
            "ed478268e3c44fde93492cbf97b1ea1d",
            "756d9a0a152148bba76fc764b7fd2853",
            "4502b59b3d334cf789990c49cb8b4411",
            "4dfb9bba89ca44f3bac916da88384c25",
            "012c478b9ff642fabc2ae661d9c73ed4",
            "34a26d2736974fecba409dda3ddf0aeb",
            "f14b25038d8045d78e0a4df451489730",
            "51fbd555d44647128034f1dd3d43681b",
            "f320dc6228c24522b7310e0a99673b10"
          ]
        },
        "id": "9851u_y0k96x",
        "outputId": "9a4b2f9c-a117-442b-a8bf-3755d434154d"
      },
      "execution_count": 6,
      "outputs": [
        {
          "output_type": "stream",
          "name": "stderr",
          "text": [
            "Overriding torch_dtype=None with `torch_dtype=torch.float16` due to requirements of `bitsandbytes` to enable model loading in mixed int8. Either pass torch_dtype=torch.float16 or don't pass this argument at all to remove this warning.\n"
          ]
        },
        {
          "output_type": "display_data",
          "data": {
            "text/plain": [
              "Loading checkpoint shards:   0%|          | 0/3 [00:00<?, ?it/s]"
            ],
            "application/vnd.jupyter.widget-view+json": {
              "version_major": 2,
              "version_minor": 0,
              "model_id": "46cbacac599541d8baff4a271b6bc5f5"
            }
          },
          "metadata": {}
        },
        {
          "output_type": "display_data",
          "data": {
            "text/plain": [
              "Downloading (…)neration_config.json:   0%|          | 0.00/137 [00:00<?, ?B/s]"
            ],
            "application/vnd.jupyter.widget-view+json": {
              "version_major": 2,
              "version_minor": 0,
              "model_id": "56788ab960b243f9b54768daf0784e12"
            }
          },
          "metadata": {}
        },
        {
          "output_type": "display_data",
          "data": {
            "text/plain": [
              "Downloading (…)okenizer_config.json:   0%|          | 0.00/205 [00:00<?, ?B/s]"
            ],
            "application/vnd.jupyter.widget-view+json": {
              "version_major": 2,
              "version_minor": 0,
              "model_id": "c131a298c101476da5bb1cc8bcc4e693"
            }
          },
          "metadata": {}
        },
        {
          "output_type": "display_data",
          "data": {
            "text/plain": [
              "Downloading tokenizer.model:   0%|          | 0.00/500k [00:00<?, ?B/s]"
            ],
            "application/vnd.jupyter.widget-view+json": {
              "version_major": 2,
              "version_minor": 0,
              "model_id": "59f9f127e13047d3bd51cb376dd8b624"
            }
          },
          "metadata": {}
        },
        {
          "output_type": "display_data",
          "data": {
            "text/plain": [
              "Downloading (…)cial_tokens_map.json:   0%|          | 0.00/3.00 [00:00<?, ?B/s]"
            ],
            "application/vnd.jupyter.widget-view+json": {
              "version_major": 2,
              "version_minor": 0,
              "model_id": "f3c4f958d6fd452db90d66ce461a55eb"
            }
          },
          "metadata": {}
        }
      ]
    },
    {
      "cell_type": "markdown",
      "source": [
        "## Load the Lora Model"
      ],
      "metadata": {
        "id": "o36elmU7mih4"
      }
    },
    {
      "cell_type": "code",
      "source": [
        "model = PeftModel.from_pretrained(model,peft_model_id)"
      ],
      "metadata": {
        "colab": {
          "base_uri": "https://localhost:8080/",
          "height": 49,
          "referenced_widgets": [
            "f7c403c8dd8748448c61a5f56c988e56",
            "7991c98f0e504bb29748de935546c922",
            "bd1faedd4fb74fb582e2f0468139330d",
            "b6a12d8700a14b038e882a035e08a105",
            "5e73e97b51104c6b9941f8f7541d6f8c",
            "f44c9cdcdb7440c68c72aadc25781e24",
            "c781925016754d76b6b358fa3178aa04",
            "3a2d4e2d71f146ed957b98b740c85122",
            "105293ef67fe4e91bbc723f48ffa8fb4",
            "c200861aba11446eb26d66f3c44a547a",
            "991c61f0a8754239a523e4bf6496c479"
          ]
        },
        "id": "Vxl8zg6ummHc",
        "outputId": "a27ad18e-4dc5-4d0f-d976-256a0817e4ff"
      },
      "execution_count": 7,
      "outputs": [
        {
          "output_type": "display_data",
          "data": {
            "text/plain": [
              "Downloading adapter_model.bin:   0%|          | 0.00/8.41M [00:00<?, ?B/s]"
            ],
            "application/vnd.jupyter.widget-view+json": {
              "version_major": 2,
              "version_minor": 0,
              "model_id": "f7c403c8dd8748448c61a5f56c988e56"
            }
          },
          "metadata": {}
        }
      ]
    },
    {
      "cell_type": "markdown",
      "source": [
        "## Define Generate Function"
      ],
      "metadata": {
        "id": "mEW6__vpm3vb"
      }
    },
    {
      "cell_type": "code",
      "source": [
        "def gpt4all_generate(text):\n",
        "  inputs = tokenizer(text,return_tensors=\"pt\")\n",
        "  input_ids = inputs[\"input_ids\"].cuda()\n",
        "  generation_config = GenerationConfig(temperature =0.7,\n",
        "                                       top_p=0.95,\n",
        "                                       repetition_pebalty=1.2,\n",
        "                                       )\n",
        "  print(\"Generating ....\")\n",
        "  generation_output = model.generate(input_ids =input_ids,\n",
        "                                     generation_config = generation_config,\n",
        "                                     output_scores=True,\n",
        "                                     max_new_tokens=256,)\n",
        "  wrapped_text = textwrap.fill(tokenizer.decode(generation_output[0]),width=100)\n",
        "  print(wrapped_text)"
      ],
      "metadata": {
        "id": "TWXncHs3nAlm"
      },
      "execution_count": 46,
      "outputs": []
    },
    {
      "cell_type": "code",
      "source": [
        "%%time\n",
        "PROMPT = \"\"\"Below is an instrution that describes a task.Write a response that approximately completes the request.\n",
        "###INSTRUCTION:\n",
        "What are the differences between alpaca and sheep ?\n",
        "###RESPONSE:\"\"\"\n",
        "gpt4all_generate(PROMPT)"
      ],
      "metadata": {
        "colab": {
          "base_uri": "https://localhost:8080/"
        },
        "id": "uokLS0i6rFe1",
        "outputId": "613d87c9-b1f6-43ec-89f2-77563d48a755"
      },
      "execution_count": 13,
      "outputs": [
        {
          "output_type": "stream",
          "name": "stdout",
          "text": [
            "Generating ....\n",
            " Below is an instrution that describes a task.Write a response that approximately completes the\n",
            "request. ###INSTRUCTION: What are the differences between alpaca and sheep ? ###RESPONSE: Alpacas\n",
            "and sheep are both members of the camelid family, but they have some key differences. Alpacas are\n",
            "smaller than sheep and have a more slender build. They also have a shorter, finer fleece that is\n",
            "more resistant to pests and diseases. Alpacas are also known for their gentle nature and are often\n",
            "used for their fiber, which is used to make clothing and other textiles. Sheep, on the other hand,\n",
            "are larger and have a coarser, woolier fleece that is used for a variety of purposes, including\n",
            "clothing, carpets, and blankets. Sheep are also known for their ability to graze on a variety of\n",
            "grasses and other plants, making them more versatile than alpacas.\n",
            "CPU times: user 37.8 s, sys: 0 ns, total: 37.8 s\n",
            "Wall time: 37.8 s\n"
          ]
        }
      ]
    },
    {
      "cell_type": "code",
      "source": [
        "%%time\n",
        "PROMPT = \"\"\"###INSTRUCTION:\n",
        "What are the differences between alpaca and sheep ?\n",
        "###RESPONSE:\"\"\"\n",
        "gpt4all_generate(PROMPT)"
      ],
      "metadata": {
        "colab": {
          "base_uri": "https://localhost:8080/"
        },
        "id": "D_UPWIdzsPN8",
        "outputId": "f2d29fe2-7a2e-48d9-c59d-726a2faada7c"
      },
      "execution_count": 14,
      "outputs": [
        {
          "output_type": "stream",
          "name": "stdout",
          "text": [
            "Generating ....\n",
            " ###INSTRUCTION: What are the differences between alpaca and sheep ? ###RESPONSE: Alpacas and sheep\n",
            "are both members of the camelid family, but they are not closely related. Alpacas are native to\n",
            "South America, while sheep are native to Europe and Asia. Alpacas are smaller than sheep, with a\n",
            "more slender build and a shorter, curly coat. They are also more docile and easier to handle than\n",
            "sheep. Alpacas are primarily raised for their fiber, which is used to make clothing and other\n",
            "textiles, while sheep are raised for their meat and wool.\n",
            "CPU times: user 24.3 s, sys: 0 ns, total: 24.3 s\n",
            "Wall time: 24.4 s\n"
          ]
        }
      ]
    },
    {
      "cell_type": "code",
      "source": [
        "def gpt4all_generate(text):\n",
        "  inputs = tokenizer(text,return_tensors=\"pt\")\n",
        "  input_ids = inputs[\"input_ids\"].cuda()\n",
        "  generation_config = GenerationConfig(temperature =0,\n",
        "                                       top_p=0.95,\n",
        "                                       repetition_penalty=1.2,\n",
        "                                       )\n",
        "  print(\"Generating ....\")\n",
        "  generation_output = model.generate(input_ids =input_ids,\n",
        "                                     generation_config = generation_config,\n",
        "                                     output_scores=True,\n",
        "                                     max_new_tokens=1000,)\n",
        "  #wrapped_text = textwrap.fill(tokenizer.decode(generation_output[0]),width=100)\n",
        "  out = tokenizer.decode(generation_output[0])\n",
        "  return out"
      ],
      "metadata": {
        "id": "mqvXHcMVt2DW"
      },
      "execution_count": 27,
      "outputs": []
    },
    {
      "cell_type": "code",
      "source": [
        "%%time\n",
        "PROMPT=\"\"\"You are a helpful healthcare assistant. Ask me anything about your medication regimen and I will provide real-time information about drugs, including side effects, interactions, and potential contraindications. Simply tell me the name of your medication and I will do my best to provide you with accurate and timely information to help you make informed decisions about your health.\n",
        "###INSTRUCTION:\n",
        "Please provide the details for all the medicines prescribed in a point-by-point manner:\n",
        "1. Provide General information on the medications you listed in a point wise manner. \n",
        "2. Provide Real-time information about drugs, including side effects, interactions, and potential contra-indications. \n",
        "3. Provide Proper dosage, administration, and storage of medications\n",
        "4. Suggest Potential alternatives for patients who are allergic or intolerant to specific prescriptions if any.\n",
        "5. Also correct the medication names if specified incorrectly.\n",
        "\n",
        "The output should be generated in Markdown Format.Make sure details should be h2 tag & response to the details should be p tag\n",
        "\n",
        "MEDICINES PRESCRIBED:\n",
        "Medicines Prescribed:  \n",
        "1. Glucobay 50 mg\n",
        "2. Reclide 80 mg\n",
        "3. Glycomet  25 mg\n",
        "4. Glucobay 50 mg\n",
        "5. Fourtiz B Z Plus\n",
        "Allergic/ Intolerant:  \n",
        "Metmorfin\n",
        "###RESPONSE:\"\"\"\n",
        "gpt4all_generate(PROMPT)"
      ],
      "metadata": {
        "colab": {
          "base_uri": "https://localhost:8080/"
        },
        "id": "bfaRFWwIrfns",
        "outputId": "997aa276-436d-4345-a7b6-d778c5a6d112"
      },
      "execution_count": 23,
      "outputs": [
        {
          "output_type": "stream",
          "name": "stdout",
          "text": [
            "Generating ....\n",
            " You are a helpful healthcare assistant. Ask me anything about your medication regimen and I will\n",
            "provide real-time information about drugs, including side effects, interactions, and potential\n",
            "contraindications. Simply tell me the name of your medication and I will do my best to provide you\n",
            "with accurate and timely information to help you make informed decisions about your health.\n",
            "###INSTRUCTION: Please provide the details for all the medicines prescribed in a point-by-point\n",
            "manner: 1. Provide General information on the medications you listed in a point wise manner.  2.\n",
            "Provide Real-time information about drugs, including side effects, interactions, and potential\n",
            "contra-indications.  3. Provide Proper dosage, administration, and storage of medications 4. Suggest\n",
            "Potential alternatives for patients who are allergic or intolerant to specific prescriptions if any.\n",
            "5. Also correct the medication names if specified incorrectly.  The output should be generated in\n",
            "Markdown Format.Make sure details should be h2 tag & response to the details should be p tag\n",
            "MEDICINES PRESCRIBED: Medicines Prescribed:   1. Glucobay 50 mg 2. Reclide 80 mg 3. Glycomet  25 mg\n",
            "4. Glucobay 50 mg 5. Fourtiz B Z Plus Allergic/ Intolerant:   Metmorfin ###RESPONSE: General\n",
            "Information: Glucobay is an antihyperglycemic agent that helps control blood sugar levels by\n",
            "stimulating insulin secretion from beta cells in pancreas. It can be used alone or along with other\n",
            "antidiabetic agents like metformin (Fortis) or sulfonylurea derivatives such as glibenclamide\n",
            "(Reclide). The usual starting dose is 50 mg once daily before breakfast. Dosages may need adjustment\n",
            "based on individual patient's response and tolerance. Common adverse reactions include nausea,\n",
            "vomiting, diarrhea, abdominal pain, headache, dizziness, fatigue, hypoglycaemia, rashes, pruritus,\n",
            "urticaria, angioedema, arthralgia, muscle cramps, asthenia, weight gain, hypertriglyceridaemia,\n",
            "hyponatraemia, increased appetite, gastrointestinal disorders, urinary tract infection, upper\n",
            "respiratory tract infections, nasopharyngitis, sinusitis, pharyngeal pain, rhinitis, coughing,\n",
            "bronchial obstruction, wheezing, shortness of breath, chills, fever, influenza symptoms, back pain,\n",
            "neck stiffness, joint swelling, joint aches, leg pain, arm pain, shoulder pain, wrist pain, elbow\n",
            "pain, knee pain, hip pain, thigh pain, foot pain, toe pain, finger pain, hand pain, ear pain, eye\n",
            "irritation, conjunctivitis, vision blurring, dry eyes, itchy skin, dermatitis, eczema, psoriasis,\n",
            "acne vulgaris, alopecia, hair loss, sweating, palpitations, tachycardia, orthostatic hypotension,\n",
            "peripheral oedema, flushing, hot flushes, facial flushing, erythematous rash, exfoliative\n",
            "dermatitis, photosensitivity reaction, Stevens Johnson syndrome, Toxic Epidermal Necrolysis\n",
            "Syndrome, drug rash with eosinophilia and systemic symptoms, bullous pemphigoid, fixed drug\n",
            "eruption, lichen planus, cutaneous vasculitis, Sweet's syndrome, necrotising fasciitis, cellulites,\n",
            "fungal infections, viral hepatitis, herpes simplex virus infection, varicella zoster virus\n",
            "infection, measles, rubella, parvovirus B19 infection, Epstein Barr Virus Infection, HIV infection,\n",
            "syphilis, leprosy, infective endocarditis, septicaemic shock, sepsis, meningoencephalitis,\n",
            "encephalopathies, depression, anxiety, agitation, restlessness, nervousness, tremors, convulsions,\n",
            "hallucination, delirium, confusion, amnesia, memory impairment, speech disturbance, language\n",
            "difficulty, hearing disturbances, vertigo, ataxia, dysarthria, apraxia, dyskinesia, extrapyramidal\n",
            "movement disorder, Parkinsonism, akinesia, rigidity, bradykinesia, tardive dyskinesia, psychotic\n",
            "episodes, mania, hypomania, suicidal ideation, suicide attempt, suicidal behaviour, hostility,\n",
            "aggression, violence, homicides, self harm injuries, substance use disorder, alcohol intoxication,\n",
            "opiate withdrawal, benzodiazepine dependence, sedation, somnolence, sleep disruption, nightmares,\n",
            "vivid dreams, insomnia, daytime tiredness, fatigue, weakness, decreased libido, erectile\n",
            "dysfunction, ejaculation failure, orgasmic dysfunction, sexual desire, premature ejaculation, male\n",
            "infertility, female sterilisation, amenorrhea, galactorrhoea, breast tenderness, breast engorgement,\n",
            "menorrhagia, postmenstrual spotting, pregnancy test positive, abortion, miscarriage, stillbirth,\n",
            "birth defects, foetal death, fractures, bruises, contusion, sprain, strains, ligament injury,\n",
            "cartilaginous damage, intervertebral disc prolapse, vertebrobasilar stroke, transient ischaemic\n",
            "attack, subarachnoid haemorrhage, epistaxis, nose\n",
            "CPU times: user 3min 49s, sys: 0 ns, total: 3min 49s\n",
            "Wall time: 3min 50s\n"
          ]
        }
      ]
    },
    {
      "cell_type": "markdown",
      "source": [
        "## Trying the same without the Alpaca Prompt"
      ],
      "metadata": {
        "id": "kRrvhLBowikG"
      }
    },
    {
      "cell_type": "code",
      "source": [
        "%%time\n",
        "PROMPT=\"\"\"You are a helpful healthcare assistant. Ask me anything about your medication regimen and I will provide real-time information about drugs, including side effects, interactions, and potential contraindications.Simply tell me the name of your medication and I will do my best to provide you with accurate and timely information to help you make informed decisions about your health.\n",
        "\\n\n",
        "Please provide the details for all the medicines prescribed in a point-by-point manner:\\n\n",
        "1. Provide General information on the medications you listed in a point wise manner. \\n\n",
        "2. Provide Real-time information about drugs, including side effects, interactions, and potential contra-indications.\\n \n",
        "3. Provide Proper dosage, administration, and storage of medications. \\n\n",
        "4. Suggest Potential alternatives for patients who are allergic or intolerant to specific prescriptions if any.\\n\n",
        "5. Also correct the medication names if specified incorrectly.\\n\n",
        "\\n\n",
        "The output should be generated in Markdown Format.Make sure details should be h2 tag & response to the details should be p tag\n",
        "\\n\n",
        "MEDICINES PRESCRIBED:\\n\n",
        "Medicines Prescribed:  \n",
        "1. Glucobay 50 mg\n",
        "2. Reclide 80 mg\n",
        "3. Glycomet  25 mg\n",
        "4. Glucobay 50 mg\n",
        "5. Fourtiz B Z Plus\n",
        "Allergic/ Intolerant:  \n",
        "Metmorfin\n",
        "###RESPONSE:\\n\n",
        "\"\"\"\n",
        "out = gpt4all_generate(PROMPT)"
      ],
      "metadata": {
        "colab": {
          "base_uri": "https://localhost:8080/"
        },
        "id": "3B7AyndJtKti",
        "outputId": "982f5bfa-4918-48cc-87f6-9dcb2f0a646d"
      },
      "execution_count": 28,
      "outputs": [
        {
          "output_type": "stream",
          "name": "stdout",
          "text": [
            "Generating ....\n",
            "CPU times: user 1min 15s, sys: 127 ms, total: 1min 15s\n",
            "Wall time: 1min 15s\n"
          ]
        }
      ]
    },
    {
      "cell_type": "code",
      "source": [
        "print(textwrap.fill(out,100))"
      ],
      "metadata": {
        "colab": {
          "base_uri": "https://localhost:8080/"
        },
        "id": "J6HIAGhB0gWM",
        "outputId": "da8b128a-18ce-46f1-e536-db3bdfde104b"
      },
      "execution_count": 32,
      "outputs": [
        {
          "output_type": "stream",
          "name": "stdout",
          "text": [
            " You are a helpful healthcare assistant. Ask me anything about your medication regimen and I will\n",
            "provide real-time information about drugs, including side effects, interactions, and potential\n",
            "contraindications.Simply tell me the name of your medication and I will do my best to provide you\n",
            "with accurate and timely information to help you make informed decisions about your health.   Please\n",
            "provide the details for all the medicines prescribed in a point-by-point manner:  1. Provide General\n",
            "information on the medications you listed in a point wise manner.   2. Provide Real-time information\n",
            "about drugs, including side effects, interactions, and potential contra-indications.   3. Provide\n",
            "Proper dosage, administration, and storage of medications.   4. Suggest Potential alternatives for\n",
            "patients who are allergic or intolerant to specific prescriptions if any.  5. Also correct the\n",
            "medication names if specified incorrectly.    The output should be generated in Markdown Format.Make\n",
            "sure details should be h2 tag & response to the details should be p tag   MEDICINES PRESCRIBED:\n",
            "Medicines Prescribed:   1. Glucobay 50 mg 2. Reclide 80 mg 3. Glycomet  25 mg 4. Glucobay 50 mg 5.\n",
            "Fourtiz B Z Plus Allergic/ Intolerant:   Metmorfin ###RESPONSE:  Glucobay is an antihyperglycemic\n",
            "agent that helps control blood sugar levels by stimulating insulin secretion from pancreatic beta\n",
            "cells. It can cause hypoglycaemia (low blood glucose) when taken alone but not when combined with\n",
            "other antidiabetic agents such as metformin. Metformin may also reduce appetite and weight gain\n",
            "which could lead to decreased risk of cardiovascular disease. Side effects include nausea, diarrhea,\n",
            "abdominal pain, headache, dizziness, fatigue, and skin rashes. Do not take this medicine without\n",
            "consulting your doctor first. Reclide is used to treat type II diabetes. It works by increasing the\n",
            "amount of insulin produced by the body after eating. This reduces the rise in blood sugar levels\n",
            "after eating. The most common side effect is low blood sugar (hypoglycemia). Other possible side\n",
            "effects include stomach upsets, increased urination, and changes in liver function tests. Always\n",
            "follow the instructions provided by your physician regarding proper use and dosages. Fourtiz BZ+ is\n",
            "a combination drug containing two active ingredients - ampicillin and sulbactam. Ampicillin is an\n",
            "antibacterial agent that fights bacteria in the body while Sulbactam prevents the development of\n",
            "certain types of resistant bacteria. Possible side effects include vomiting, diarrhoea, fever, joint\n",
            "pain, itching, swelling, redness, and rash. Consult your doctor before taking this medicine.\n"
          ]
        }
      ]
    },
    {
      "cell_type": "code",
      "source": [
        "! pip install -qU openai"
      ],
      "metadata": {
        "colab": {
          "base_uri": "https://localhost:8080/",
          "height": 592
        },
        "id": "yMS3LJH-1s7q",
        "outputId": "ab0762ca-5f42-48b0-c8b0-b6768a90dfeb"
      },
      "execution_count": 33,
      "outputs": [
        {
          "output_type": "display_data",
          "data": {
            "text/plain": [
              "\u001b[31m╭─\u001b[0m\u001b[31m──────────────────────────────\u001b[0m\u001b[31m \u001b[0m\u001b[1;31mTraceback \u001b[0m\u001b[1;2;31m(most recent call last)\u001b[0m\u001b[31m \u001b[0m\u001b[31m───────────────────────────────\u001b[0m\u001b[31m─╮\u001b[0m\n",
              "\u001b[31m│\u001b[0m in \u001b[92m<cell line: 1>\u001b[0m:\u001b[94m1\u001b[0m                                                                              \u001b[31m│\u001b[0m\n",
              "\u001b[31m│\u001b[0m                                                                                                  \u001b[31m│\u001b[0m\n",
              "\u001b[31m│\u001b[0m \u001b[2;33m/usr/local/lib/python3.9/dist-packages/google/colab/\u001b[0m\u001b[1;33m_shell.py\u001b[0m:\u001b[94m98\u001b[0m in \u001b[92msystem\u001b[0m                       \u001b[31m│\u001b[0m\n",
              "\u001b[31m│\u001b[0m                                                                                                  \u001b[31m│\u001b[0m\n",
              "\u001b[31m│\u001b[0m   \u001b[2m 95 \u001b[0m\u001b[2m│   \u001b[0m\u001b[94mif\u001b[0m pip_warn:                                                                           \u001b[31m│\u001b[0m\n",
              "\u001b[31m│\u001b[0m   \u001b[2m 96 \u001b[0m\u001b[2m│     \u001b[0mkwargs.update({\u001b[33m'\u001b[0m\u001b[33malso_return_output\u001b[0m\u001b[33m'\u001b[0m: \u001b[94mTrue\u001b[0m})                                          \u001b[31m│\u001b[0m\n",
              "\u001b[31m│\u001b[0m   \u001b[2m 97 \u001b[0m\u001b[2m│   \u001b[0m                                                                                       \u001b[31m│\u001b[0m\n",
              "\u001b[31m│\u001b[0m \u001b[31m❱ \u001b[0m 98 \u001b[2m│   \u001b[0moutput = _system_commands._system_compat(\u001b[96mself\u001b[0m, *args, **kwargs)  \u001b[2m# pylint:disable=pr\u001b[0m   \u001b[31m│\u001b[0m\n",
              "\u001b[31m│\u001b[0m   \u001b[2m 99 \u001b[0m\u001b[2m│   \u001b[0m                                                                                       \u001b[31m│\u001b[0m\n",
              "\u001b[31m│\u001b[0m   \u001b[2m100 \u001b[0m\u001b[2m│   \u001b[0m\u001b[94mif\u001b[0m pip_warn:                                                                           \u001b[31m│\u001b[0m\n",
              "\u001b[31m│\u001b[0m   \u001b[2m101 \u001b[0m\u001b[2m│     \u001b[0m_pip.print_previous_import_warning(output)                                           \u001b[31m│\u001b[0m\n",
              "\u001b[31m│\u001b[0m                                                                                                  \u001b[31m│\u001b[0m\n",
              "\u001b[31m│\u001b[0m \u001b[2;33m/usr/local/lib/python3.9/dist-packages/google/colab/\u001b[0m\u001b[1;33m_system_commands.py\u001b[0m:\u001b[94m453\u001b[0m in \u001b[92m_system_compat\u001b[0m    \u001b[31m│\u001b[0m\n",
              "\u001b[31m│\u001b[0m                                                                                                  \u001b[31m│\u001b[0m\n",
              "\u001b[31m│\u001b[0m   \u001b[2m450 \u001b[0m\u001b[2m  \u001b[0m\u001b[2m# We set a higher depth than the IPython system command since a shell object\u001b[0m             \u001b[31m│\u001b[0m\n",
              "\u001b[31m│\u001b[0m   \u001b[2m451 \u001b[0m\u001b[2m  \u001b[0m\u001b[2m# is expected to call this function, thus adding one level of nesting to the\u001b[0m             \u001b[31m│\u001b[0m\n",
              "\u001b[31m│\u001b[0m   \u001b[2m452 \u001b[0m\u001b[2m  \u001b[0m\u001b[2m# stack.\u001b[0m                                                                                 \u001b[31m│\u001b[0m\n",
              "\u001b[31m│\u001b[0m \u001b[31m❱ \u001b[0m453 \u001b[2m  \u001b[0mresult = _run_command(                                                                   \u001b[31m│\u001b[0m\n",
              "\u001b[31m│\u001b[0m   \u001b[2m454 \u001b[0m\u001b[2m│     \u001b[0mshell.var_expand(cmd, depth=\u001b[94m2\u001b[0m), clear_streamed_output=\u001b[94mFalse\u001b[0m                          \u001b[31m│\u001b[0m\n",
              "\u001b[31m│\u001b[0m   \u001b[2m455 \u001b[0m\u001b[2m  \u001b[0m)                                                                                        \u001b[31m│\u001b[0m\n",
              "\u001b[31m│\u001b[0m   \u001b[2m456 \u001b[0m\u001b[2m  \u001b[0mshell.user_ns[\u001b[33m'\u001b[0m\u001b[33m_exit_code\u001b[0m\u001b[33m'\u001b[0m] = result.returncode                                          \u001b[31m│\u001b[0m\n",
              "\u001b[31m│\u001b[0m                                                                                                  \u001b[31m│\u001b[0m\n",
              "\u001b[31m│\u001b[0m \u001b[2;33m/usr/local/lib/python3.9/dist-packages/google/colab/\u001b[0m\u001b[1;33m_system_commands.py\u001b[0m:\u001b[94m167\u001b[0m in \u001b[92m_run_command\u001b[0m      \u001b[31m│\u001b[0m\n",
              "\u001b[31m│\u001b[0m                                                                                                  \u001b[31m│\u001b[0m\n",
              "\u001b[31m│\u001b[0m   \u001b[2m164 \u001b[0m\u001b[2;90m  \u001b[0m\u001b[33m\"\"\"Calls the shell command, forwarding input received on the stdin_socket.\"\"\"\u001b[0m            \u001b[31m│\u001b[0m\n",
              "\u001b[31m│\u001b[0m   \u001b[2m165 \u001b[0m\u001b[2m  \u001b[0mlocale_encoding = locale.getpreferredencoding()                                          \u001b[31m│\u001b[0m\n",
              "\u001b[31m│\u001b[0m   \u001b[2m166 \u001b[0m\u001b[2m  \u001b[0m\u001b[94mif\u001b[0m locale_encoding != _ENCODING:                                                         \u001b[31m│\u001b[0m\n",
              "\u001b[31m│\u001b[0m \u001b[31m❱ \u001b[0m167 \u001b[2m│   \u001b[0m\u001b[94mraise\u001b[0m \u001b[96mNotImplementedError\u001b[0m(                                                             \u001b[31m│\u001b[0m\n",
              "\u001b[31m│\u001b[0m   \u001b[2m168 \u001b[0m\u001b[2m│   │   \u001b[0m\u001b[33m'\u001b[0m\u001b[33mA UTF-8 locale is required. Got \u001b[0m\u001b[33m{}\u001b[0m\u001b[33m'\u001b[0m.format(locale_encoding)                       \u001b[31m│\u001b[0m\n",
              "\u001b[31m│\u001b[0m   \u001b[2m169 \u001b[0m\u001b[2m│   \u001b[0m)                                                                                      \u001b[31m│\u001b[0m\n",
              "\u001b[31m│\u001b[0m   \u001b[2m170 \u001b[0m                                                                                           \u001b[31m│\u001b[0m\n",
              "\u001b[31m╰──────────────────────────────────────────────────────────────────────────────────────────────────╯\u001b[0m\n",
              "\u001b[1;91mNotImplementedError: \u001b[0mA UTF-\u001b[1;36m8\u001b[0m locale is required. Got ANSI_X3.\u001b[1;36m4\u001b[0m-\u001b[1;36m1968\u001b[0m\n"
            ],
            "text/html": [
              "<pre style=\"white-space:pre;overflow-x:auto;line-height:normal;font-family:Menlo,'DejaVu Sans Mono',consolas,'Courier New',monospace\"><span style=\"color: #800000; text-decoration-color: #800000\">╭─────────────────────────────── </span><span style=\"color: #800000; text-decoration-color: #800000; font-weight: bold\">Traceback </span><span style=\"color: #bf7f7f; text-decoration-color: #bf7f7f; font-weight: bold\">(most recent call last)</span><span style=\"color: #800000; text-decoration-color: #800000\"> ────────────────────────────────╮</span>\n",
              "<span style=\"color: #800000; text-decoration-color: #800000\">│</span> in <span style=\"color: #00ff00; text-decoration-color: #00ff00\">&lt;cell line: 1&gt;</span>:<span style=\"color: #0000ff; text-decoration-color: #0000ff\">1</span>                                                                              <span style=\"color: #800000; text-decoration-color: #800000\">│</span>\n",
              "<span style=\"color: #800000; text-decoration-color: #800000\">│</span>                                                                                                  <span style=\"color: #800000; text-decoration-color: #800000\">│</span>\n",
              "<span style=\"color: #800000; text-decoration-color: #800000\">│</span> <span style=\"color: #bfbf7f; text-decoration-color: #bfbf7f\">/usr/local/lib/python3.9/dist-packages/google/colab/</span><span style=\"color: #808000; text-decoration-color: #808000; font-weight: bold\">_shell.py</span>:<span style=\"color: #0000ff; text-decoration-color: #0000ff\">98</span> in <span style=\"color: #00ff00; text-decoration-color: #00ff00\">system</span>                       <span style=\"color: #800000; text-decoration-color: #800000\">│</span>\n",
              "<span style=\"color: #800000; text-decoration-color: #800000\">│</span>                                                                                                  <span style=\"color: #800000; text-decoration-color: #800000\">│</span>\n",
              "<span style=\"color: #800000; text-decoration-color: #800000\">│</span>   <span style=\"color: #7f7f7f; text-decoration-color: #7f7f7f\"> 95 │   </span><span style=\"color: #0000ff; text-decoration-color: #0000ff\">if</span> pip_warn:                                                                           <span style=\"color: #800000; text-decoration-color: #800000\">│</span>\n",
              "<span style=\"color: #800000; text-decoration-color: #800000\">│</span>   <span style=\"color: #7f7f7f; text-decoration-color: #7f7f7f\"> 96 │     </span>kwargs.update({<span style=\"color: #808000; text-decoration-color: #808000\">'also_return_output'</span>: <span style=\"color: #0000ff; text-decoration-color: #0000ff\">True</span>})                                          <span style=\"color: #800000; text-decoration-color: #800000\">│</span>\n",
              "<span style=\"color: #800000; text-decoration-color: #800000\">│</span>   <span style=\"color: #7f7f7f; text-decoration-color: #7f7f7f\"> 97 │   </span>                                                                                       <span style=\"color: #800000; text-decoration-color: #800000\">│</span>\n",
              "<span style=\"color: #800000; text-decoration-color: #800000\">│</span> <span style=\"color: #800000; text-decoration-color: #800000\">❱ </span> 98 <span style=\"color: #7f7f7f; text-decoration-color: #7f7f7f\">│   </span>output = _system_commands._system_compat(<span style=\"color: #00ffff; text-decoration-color: #00ffff\">self</span>, *args, **kwargs)  <span style=\"color: #7f7f7f; text-decoration-color: #7f7f7f\"># pylint:disable=pr</span>   <span style=\"color: #800000; text-decoration-color: #800000\">│</span>\n",
              "<span style=\"color: #800000; text-decoration-color: #800000\">│</span>   <span style=\"color: #7f7f7f; text-decoration-color: #7f7f7f\"> 99 │   </span>                                                                                       <span style=\"color: #800000; text-decoration-color: #800000\">│</span>\n",
              "<span style=\"color: #800000; text-decoration-color: #800000\">│</span>   <span style=\"color: #7f7f7f; text-decoration-color: #7f7f7f\">100 │   </span><span style=\"color: #0000ff; text-decoration-color: #0000ff\">if</span> pip_warn:                                                                           <span style=\"color: #800000; text-decoration-color: #800000\">│</span>\n",
              "<span style=\"color: #800000; text-decoration-color: #800000\">│</span>   <span style=\"color: #7f7f7f; text-decoration-color: #7f7f7f\">101 │     </span>_pip.print_previous_import_warning(output)                                           <span style=\"color: #800000; text-decoration-color: #800000\">│</span>\n",
              "<span style=\"color: #800000; text-decoration-color: #800000\">│</span>                                                                                                  <span style=\"color: #800000; text-decoration-color: #800000\">│</span>\n",
              "<span style=\"color: #800000; text-decoration-color: #800000\">│</span> <span style=\"color: #bfbf7f; text-decoration-color: #bfbf7f\">/usr/local/lib/python3.9/dist-packages/google/colab/</span><span style=\"color: #808000; text-decoration-color: #808000; font-weight: bold\">_system_commands.py</span>:<span style=\"color: #0000ff; text-decoration-color: #0000ff\">453</span> in <span style=\"color: #00ff00; text-decoration-color: #00ff00\">_system_compat</span>    <span style=\"color: #800000; text-decoration-color: #800000\">│</span>\n",
              "<span style=\"color: #800000; text-decoration-color: #800000\">│</span>                                                                                                  <span style=\"color: #800000; text-decoration-color: #800000\">│</span>\n",
              "<span style=\"color: #800000; text-decoration-color: #800000\">│</span>   <span style=\"color: #7f7f7f; text-decoration-color: #7f7f7f\">450   # We set a higher depth than the IPython system command since a shell object</span>             <span style=\"color: #800000; text-decoration-color: #800000\">│</span>\n",
              "<span style=\"color: #800000; text-decoration-color: #800000\">│</span>   <span style=\"color: #7f7f7f; text-decoration-color: #7f7f7f\">451   # is expected to call this function, thus adding one level of nesting to the</span>             <span style=\"color: #800000; text-decoration-color: #800000\">│</span>\n",
              "<span style=\"color: #800000; text-decoration-color: #800000\">│</span>   <span style=\"color: #7f7f7f; text-decoration-color: #7f7f7f\">452   # stack.</span>                                                                                 <span style=\"color: #800000; text-decoration-color: #800000\">│</span>\n",
              "<span style=\"color: #800000; text-decoration-color: #800000\">│</span> <span style=\"color: #800000; text-decoration-color: #800000\">❱ </span>453 <span style=\"color: #7f7f7f; text-decoration-color: #7f7f7f\">  </span>result = _run_command(                                                                   <span style=\"color: #800000; text-decoration-color: #800000\">│</span>\n",
              "<span style=\"color: #800000; text-decoration-color: #800000\">│</span>   <span style=\"color: #7f7f7f; text-decoration-color: #7f7f7f\">454 │     </span>shell.var_expand(cmd, depth=<span style=\"color: #0000ff; text-decoration-color: #0000ff\">2</span>), clear_streamed_output=<span style=\"color: #0000ff; text-decoration-color: #0000ff\">False</span>                          <span style=\"color: #800000; text-decoration-color: #800000\">│</span>\n",
              "<span style=\"color: #800000; text-decoration-color: #800000\">│</span>   <span style=\"color: #7f7f7f; text-decoration-color: #7f7f7f\">455   </span>)                                                                                        <span style=\"color: #800000; text-decoration-color: #800000\">│</span>\n",
              "<span style=\"color: #800000; text-decoration-color: #800000\">│</span>   <span style=\"color: #7f7f7f; text-decoration-color: #7f7f7f\">456   </span>shell.user_ns[<span style=\"color: #808000; text-decoration-color: #808000\">'_exit_code'</span>] = result.returncode                                          <span style=\"color: #800000; text-decoration-color: #800000\">│</span>\n",
              "<span style=\"color: #800000; text-decoration-color: #800000\">│</span>                                                                                                  <span style=\"color: #800000; text-decoration-color: #800000\">│</span>\n",
              "<span style=\"color: #800000; text-decoration-color: #800000\">│</span> <span style=\"color: #bfbf7f; text-decoration-color: #bfbf7f\">/usr/local/lib/python3.9/dist-packages/google/colab/</span><span style=\"color: #808000; text-decoration-color: #808000; font-weight: bold\">_system_commands.py</span>:<span style=\"color: #0000ff; text-decoration-color: #0000ff\">167</span> in <span style=\"color: #00ff00; text-decoration-color: #00ff00\">_run_command</span>      <span style=\"color: #800000; text-decoration-color: #800000\">│</span>\n",
              "<span style=\"color: #800000; text-decoration-color: #800000\">│</span>                                                                                                  <span style=\"color: #800000; text-decoration-color: #800000\">│</span>\n",
              "<span style=\"color: #800000; text-decoration-color: #800000\">│</span>   <span style=\"color: #7f7f7f; text-decoration-color: #7f7f7f\">164 </span><span style=\"color: #bfbfbf; text-decoration-color: #bfbfbf\">  </span><span style=\"color: #808000; text-decoration-color: #808000\">\"\"\"Calls the shell command, forwarding input received on the stdin_socket.\"\"\"</span>            <span style=\"color: #800000; text-decoration-color: #800000\">│</span>\n",
              "<span style=\"color: #800000; text-decoration-color: #800000\">│</span>   <span style=\"color: #7f7f7f; text-decoration-color: #7f7f7f\">165   </span>locale_encoding = locale.getpreferredencoding()                                          <span style=\"color: #800000; text-decoration-color: #800000\">│</span>\n",
              "<span style=\"color: #800000; text-decoration-color: #800000\">│</span>   <span style=\"color: #7f7f7f; text-decoration-color: #7f7f7f\">166   </span><span style=\"color: #0000ff; text-decoration-color: #0000ff\">if</span> locale_encoding != _ENCODING:                                                         <span style=\"color: #800000; text-decoration-color: #800000\">│</span>\n",
              "<span style=\"color: #800000; text-decoration-color: #800000\">│</span> <span style=\"color: #800000; text-decoration-color: #800000\">❱ </span>167 <span style=\"color: #7f7f7f; text-decoration-color: #7f7f7f\">│   </span><span style=\"color: #0000ff; text-decoration-color: #0000ff\">raise</span> <span style=\"color: #00ffff; text-decoration-color: #00ffff\">NotImplementedError</span>(                                                             <span style=\"color: #800000; text-decoration-color: #800000\">│</span>\n",
              "<span style=\"color: #800000; text-decoration-color: #800000\">│</span>   <span style=\"color: #7f7f7f; text-decoration-color: #7f7f7f\">168 │   │   </span><span style=\"color: #808000; text-decoration-color: #808000\">'A UTF-8 locale is required. Got {}'</span>.format(locale_encoding)                       <span style=\"color: #800000; text-decoration-color: #800000\">│</span>\n",
              "<span style=\"color: #800000; text-decoration-color: #800000\">│</span>   <span style=\"color: #7f7f7f; text-decoration-color: #7f7f7f\">169 │   </span>)                                                                                      <span style=\"color: #800000; text-decoration-color: #800000\">│</span>\n",
              "<span style=\"color: #800000; text-decoration-color: #800000\">│</span>   <span style=\"color: #7f7f7f; text-decoration-color: #7f7f7f\">170 </span>                                                                                           <span style=\"color: #800000; text-decoration-color: #800000\">│</span>\n",
              "<span style=\"color: #800000; text-decoration-color: #800000\">╰──────────────────────────────────────────────────────────────────────────────────────────────────╯</span>\n",
              "<span style=\"color: #ff0000; text-decoration-color: #ff0000; font-weight: bold\">NotImplementedError: </span>A UTF-<span style=\"color: #008080; text-decoration-color: #008080; font-weight: bold\">8</span> locale is required. Got ANSI_X3.<span style=\"color: #008080; text-decoration-color: #008080; font-weight: bold\">4</span>-<span style=\"color: #008080; text-decoration-color: #008080; font-weight: bold\">1968</span>\n",
              "</pre>\n"
            ]
          },
          "metadata": {}
        }
      ]
    },
    {
      "cell_type": "code",
      "source": [
        "import locale\n",
        "def getpreferredencoding(do_setlocale = True):\n",
        "    return \"UTF-8\"\n",
        "locale.getpreferredencoding = getpreferredencoding"
      ],
      "metadata": {
        "id": "qQyEefvI2_Nu"
      },
      "execution_count": 36,
      "outputs": []
    },
    {
      "cell_type": "markdown",
      "source": [
        "## Using ChatGPT API"
      ],
      "metadata": {
        "id": "VbP0U1Zr8fQD"
      }
    },
    {
      "cell_type": "code",
      "source": [
        "! pip install -qU openai"
      ],
      "metadata": {
        "colab": {
          "base_uri": "https://localhost:8080/"
        },
        "id": "07CWdKLN3Bng",
        "outputId": "cd1871e6-59ab-44aa-cf83-be379d1f5811"
      },
      "execution_count": 37,
      "outputs": [
        {
          "output_type": "stream",
          "name": "stdout",
          "text": [
            "\u001b[?25l     \u001b[90m━━━━━━━━━━━━━━━━━━━━━━━━━━━━━━━━━━━━━━━━\u001b[0m \u001b[32m0.0/70.1 KB\u001b[0m \u001b[31m?\u001b[0m eta \u001b[36m-:--:--\u001b[0m\r\u001b[2K     \u001b[90m━━━━━━━━━━━━━━━━━━━━━━━━━━━━━━━━━━━━━━━━\u001b[0m \u001b[32m70.1/70.1 KB\u001b[0m \u001b[31m7.8 MB/s\u001b[0m eta \u001b[36m0:00:00\u001b[0m\n",
            "\u001b[?25h"
          ]
        }
      ]
    },
    {
      "cell_type": "code",
      "source": [
        "import openai\n",
        "from time import time,sleep\n",
        "openai.api_key = \"<<your api key here>>\""
      ],
      "metadata": {
        "id": "xx-Q4J4b3b5d"
      },
      "execution_count": 40,
      "outputs": []
    },
    {
      "cell_type": "code",
      "source": [
        "def predict_function(prompt):\n",
        "    #\n",
        "    messages = [{\"role\":\"system\",\n",
        "             \"content\":\"Your are a helpful assistant.\",\n",
        "             },\n",
        "            ]\n",
        "    #\n",
        "    messages.append({\"role\":\"user\",\"content\":prompt})\n",
        "    print(messages)\n",
        "    #\n",
        "    max_retry = 5\n",
        "    retry = 0\n",
        "    #\n",
        "    \n",
        "    while True:\n",
        "        try:\n",
        "            chat = openai.ChatCompletion.create(model=\"gpt-3.5-turbo\",\n",
        "                                        messages = messages,\n",
        "                                        )\n",
        "            reply = chat.choices[0].message.content \n",
        "            return reply\n",
        "        except Exception as oops:\n",
        "            retry += 1\n",
        "            if retry >= max_retry:\n",
        "                return \"Accessing the Completion service error: %s\" % oops\n",
        "            print('Error communicating with OpenAI:', oops)\n",
        "            sleep(1)"
      ],
      "metadata": {
        "id": "XfLC5__U3ryb"
      },
      "execution_count": 42,
      "outputs": []
    },
    {
      "cell_type": "code",
      "source": [
        "%%time\n",
        "prompt = \"\"\"You are a helpful healthcare assistant. Ask me anything about your medication regimen and I will provide real-time information about drugs, including side effects, interactions, and potential contraindications. Simply tell me the name of your medication and I will do my best to provide you with accurate and timely information to help you make informed decisions about your health. Please provide the details in a point-by-point manner:\n",
        "1. Provide General information on the medications you listed in a point wise manner. \n",
        "2. Provide Real-time information about drugs, including side effects, interactions, and potential contra-indications. \n",
        "3. Provide Proper dosage, administration, and storage of medications\n",
        "4. Suggest Potential alternatives for patients who are allergic or intolerant to specific prescriptions if any.\n",
        "5. Also correct the medication names if specified incorrectly.\n",
        "\n",
        "The output should be generated in Markdown Format.Make sure details should be h2 tag & response to the details should be p tag\n",
        "\n",
        "MEDICINES PRESCRIBED:\n",
        "Medicines Prescribed:  \n",
        "1. Glucobay 50 mg\n",
        "2. Reclide 80 mg\n",
        "3. Glycomet  25 mg\n",
        "4. Glucobay 50 mg\n",
        "5. Fourtiz B Z Plus\n",
        "Allergic/ Intolerant:  \n",
        "Metmorfin\n",
        "\n",
        "\"\"\"\n",
        "predict_function(prompt)"
      ],
      "metadata": {
        "colab": {
          "base_uri": "https://localhost:8080/",
          "height": 212
        },
        "id": "ge6KlLfW34cM",
        "outputId": "ce19c867-1b94-4bd9-d5bb-5b08a4b7cbbf"
      },
      "execution_count": 43,
      "outputs": [
        {
          "output_type": "stream",
          "name": "stdout",
          "text": [
            "[{'role': 'system', 'content': 'Your are a helpful assistant.'}, {'role': 'user', 'content': 'You are a helpful healthcare assistant. Ask me anything about your medication regimen and I will provide real-time information about drugs, including side effects, interactions, and potential contraindications. Simply tell me the name of your medication and I will do my best to provide you with accurate and timely information to help you make informed decisions about your health. Please provide the details in a point-by-point manner:\\n1. Provide General information on the medications you listed in a point wise manner. \\n2. Provide Real-time information about drugs, including side effects, interactions, and potential contra-indications. \\n3. Provide Proper dosage, administration, and storage of medications\\n4. Suggest Potential alternatives for patients who are allergic or intolerant to specific prescriptions if any.\\n5. Also correct the medication names if specified incorrectly.\\n\\nThe output should be generated in Markdown Format.Make sure details should be h2 tag & response to the details should be p tag\\n\\nMEDICINES PRESCRIBED:\\nMedicines Prescribed:  \\n1. Glucobay 50 mg\\n2. Reclide 80 mg\\n3. Glycomet  25 mg\\n4. Glucobay 50 mg\\n5. Fourtiz B Z Plus\\nAllergic/ Intolerant:  \\nMetmorfin\\n\\n'}]\n",
            "CPU times: user 185 ms, sys: 41.9 ms, total: 226 ms\n",
            "Wall time: 38 s\n"
          ]
        },
        {
          "output_type": "execute_result",
          "data": {
            "text/plain": [
              "'## Information on the prescribed medications\\n\\n1. **Glucobay 50 mg**: This medication contains the active ingredient Acarbose and is used to treat type 2 diabetes. It helps to lower high blood sugar levels after meals by delaying the digestion and absorption of carbohydrates in the intestine.\\n2. **Reclide 80 mg**: This medication contains the active ingredient Gliclazide and is used to treat type 2 diabetes. It helps to lower high blood sugar levels by stimulating the pancreas to produce more insulin.\\n3. **Glycomet 25 mg**: This medication contains the active ingredient Metformin and is used to treat type 2 diabetes. It helps to lower high blood sugar levels by reducing the amount of glucose produced in the liver and increasing the sensitivity of muscle cells to insulin.\\n4. **Glucobay 50 mg**: This medication contains the active ingredient Acarbose and is used to treat type 2 diabetes. It helps to lower high blood sugar levels after meals by delaying the digestion and absorption of carbohydrates in the intestine.\\n5. **Fourtiz B Z Plus**: This medication is a multivitamin supplement containing a combination of B vitamins, Calcium, Vitamin D3, and Zinc. It is used to prevent or treat vitamin and mineral deficiencies.\\n\\n## Real-time information about drugs\\n\\n**Glucobay 50 mg (Acarbose)**:\\n- **Side effects**: flatulence, diarrhea, abdominal pain, nausea \\n- **Interactions**: Acarbose may interact with digestive enzyme products such as amylase or pancreatin. \\n- **Contraindications**: Acarbose is contraindicated in patients with digestive disorders, inflammatory bowel disease, or intestinal obstruction.\\n\\n**Reclide 80 mg (Gliclazide)**:\\n- **Side effects**: hypoglycemia (low blood sugar), gastrointestinal disturbances, dizziness, headache \\n- **Interactions**: Gliclazide may interact with other medications that lower blood sugar such as insulin or metformin. \\n- **Contraindications**: Gliclazide is contraindicated in patients with type 1 diabetes, diabetic ketoacidosis, severe liver or kidney disease, or alcohol intoxication.\\n\\n**Glycomet 25 mg (Metformin)**:\\n- **Side effects**: nausea, diarrhea, vomiting, metallic taste \\n- **Interactions**: Metformin may interact with cimetidine, furosemide, nifedipine, and thiazide diuretics. \\n- **Contraindications**: Metformin is contraindicated in patients with severe kidney or liver disease, heart failure, or alcohol intoxication.\\n\\n**Fourtiz B Z Plus**:\\n- **Side effects**: no significant side effects reported \\n- **Interactions**: no significant interactions reported \\n- **Contraindications**: no significant contraindications reported \\n\\n## Proper dosage, administration, and storage of medications\\n\\n- Glucobay 50 mg: The usual dose is one tablet three times daily before meals. Store in a cool and dry place.\\n- Reclide 80 mg: The usual dose is one tablet once a day before breakfast. Store in a cool and dry place.\\n- Glycomet 25 mg: The usual starting dose is one tablet once a day with a meal. The dose may be increased gradually over several weeks. Store in a cool and dry place.\\n- Fourtiz B Z Plus: The usual dose is one tablet once a day after a meal. Store in a cool and dry place.\\n\\n## Potential alternatives for patients who are allergic or intolerant to specific prescriptions\\n\\nAs the patient is allergic or intolerant to Metformin, the following alternatives may be considered:\\n- DPP-4 inhibitors such as Sitagliptin, Saxagliptin, or Linagliptin \\n- GLP-1 receptor agonists such as Liraglutide, Exenatide or Dulaglutide\\n- SGLT2 inhibitors such as Empagliflozin or Dapagliflozin \\n- Insulin therapy in severe cases\\n\\nPlease note that any change in medication should only be made under the guidance of a healthcare provider.'"
            ],
            "application/vnd.google.colaboratory.intrinsic+json": {
              "type": "string"
            }
          },
          "metadata": {},
          "execution_count": 43
        }
      ]
    },
    {
      "cell_type": "code",
      "source": [
        "print(predict_function(prompt))"
      ],
      "metadata": {
        "colab": {
          "base_uri": "https://localhost:8080/"
        },
        "id": "j_fpAR2L8BzN",
        "outputId": "8cba4632-dc83-4573-dc42-aec59f14fe5b"
      },
      "execution_count": 44,
      "outputs": [
        {
          "output_type": "stream",
          "name": "stdout",
          "text": [
            "[{'role': 'system', 'content': 'Your are a helpful assistant.'}, {'role': 'user', 'content': 'You are a helpful healthcare assistant. Ask me anything about your medication regimen and I will provide real-time information about drugs, including side effects, interactions, and potential contraindications. Simply tell me the name of your medication and I will do my best to provide you with accurate and timely information to help you make informed decisions about your health. Please provide the details in a point-by-point manner:\\n1. Provide General information on the medications you listed in a point wise manner. \\n2. Provide Real-time information about drugs, including side effects, interactions, and potential contra-indications. \\n3. Provide Proper dosage, administration, and storage of medications\\n4. Suggest Potential alternatives for patients who are allergic or intolerant to specific prescriptions if any.\\n5. Also correct the medication names if specified incorrectly.\\n\\nThe output should be generated in Markdown Format.Make sure details should be h2 tag & response to the details should be p tag\\n\\nMEDICINES PRESCRIBED:\\nMedicines Prescribed:  \\n1. Glucobay 50 mg\\n2. Reclide 80 mg\\n3. Glycomet  25 mg\\n4. Glucobay 50 mg\\n5. Fourtiz B Z Plus\\nAllergic/ Intolerant:  \\nMetmorfin\\n\\n'}]\n",
            "## General Information\n",
            "1. Glucobay 50 mg - This medication is used to control high blood sugar levels in people with type 2 diabetes. It helps to reduce the amount of sugar that is absorbed from food and thus lowers blood glucose levels. \n",
            "2. Reclide 80 mg - This medication belongs to a class of drugs called sulfonylureas. It works by increasing the amount of insulin released by the pancreas, which helps to lower blood glucose levels in people with type 2 diabetes. \n",
            "3. Glycomet 25 mg - This medication is also used to treat type 2 diabetes. It helps to lower blood glucose levels by reducing the amount of sugar produced in the liver and increasing the body's sensitivity to insulin. \n",
            "4. Glucobay 50 mg - same as number 1. \n",
            "5. Fourtiz B Z Plus - This medication is a combination of 5 different drugs used to treat high blood pressure and reduce the risk of heart attack and stroke.\n",
            "\n",
            "## Real-time Information\n",
            "1. Glucobay 50 mg - Common side effects of this medication include stomach upset, bloating, gas, and diarrhea. It may interact with other medications such as digoxin, causing an increase in its concentration in the blood, leading to toxicity. It is contraindicated in patients with inflammatory bowel disease or intestinal obstruction.\n",
            "2. Reclide 80 mg - Common side effects of this medication include low blood sugar, upset stomach, and skin rash. It can interact with other medications such as aspirin or warfarin, increasing the risk of bleeding. It is contraindicated in patients with type 1 diabetes or diabetic ketoacidosis.\n",
            "3. Glycomet 25 mg - Common side effects of this medication include stomach upset, headache, and muscle pain. It can interact with other medications such as cimetidine or furosemide, leading to increased blood sugar levels. It is contraindicated in patients with severe liver disease or kidney impairment.\n",
            "5. Fourtiz B Z Plus - Common side effects of this medication include dizziness, headache, and fatigue. It can interact with other medications such as diuretics or nonsteroidal anti-inflammatory drugs (NSAIDs), leading to an increase in blood pressure. It is contraindicated in patients with a history of angioedema or severe kidney disease.\n",
            "\n",
            "## Proper Dosage, Administration, and Storage\n",
            "1. Glucobay 50 mg - The usual dose is 50 mg three times a day, taken with meals. Tablets should be stored at room temperature, away from moisture and heat.\n",
            "2. Reclide 80 mg - The usual starting dose is 80 mg once daily, taken with breakfast or the first main meal of the day. Tablets should be stored at room temperature, away from moisture and heat.\n",
            "3. Glycomet 25 mg - The usual starting dose is 500 mg once daily, taken with food. The dose can be increased gradually to a maximum of 2,000 mg per day. Tablets should be stored at room temperature, away from moisture and heat.\n",
            "5. Fourtiz B Z Plus - The usual starting dose is one tablet once daily, taken with or without food. Tablets should be stored at room temperature, away from moisture and heat.\n",
            "\n",
            "## Potential Alternatives\n",
            "Metformin is a common medication used to treat type 2 diabetes. Patients who are allergic or intolerant to metformin may be prescribed other medications such as sulfonylureas (e.g. Reclide), DPP-4 inhibitors (e.g. sitagliptin), GLP-1 receptor agonists (e.g. exenatide), or SGLT2 inhibitors (e.g. empagliflozin). However, it is important to consult with a healthcare provider to determine the best alternative for each patient based on their medical history and health status.\n"
          ]
        }
      ]
    },
    {
      "cell_type": "markdown",
      "source": [
        "## Comaprison of response from chatGPT vs GPT4all\n",
        "\n",
        "* response took 38 seconds an output is more structured in chatgpt\n",
        "* response took 1min 15 seconds for gpt4all for the same prompt and output is not very structured.\n",
        "* also ChapGPT understands what is markdown format while gpt4all was unable to interpret it.\n",
        "* also chatgpt generated the response within the default max_tokens i.e 256 limits but the max_new_tokens limit for gpt4all was set to 1000 without which the result was getting truncated."
      ],
      "metadata": {
        "id": "9A0dtzgh7gGK"
      }
    },
    {
      "cell_type": "markdown",
      "source": [
        "##Code Generation - ChatGPT"
      ],
      "metadata": {
        "id": "ZgfjG8K6DfTR"
      }
    },
    {
      "cell_type": "code",
      "source": [
        "%%time\n",
        "prompt = \"\"\"You are a helpful Coding assistant. Ask me anything about coding logic in any programming language and I will provide the code for the logic requested:\n",
        "Write a python code to detect if a give string is palindrome or not.  \n",
        "CODE GENERATED:\n",
        "\n",
        "\"\"\"\n",
        "print(predict_function(prompt))"
      ],
      "metadata": {
        "colab": {
          "base_uri": "https://localhost:8080/"
        },
        "id": "0H1g3bEqDiaE",
        "outputId": "dc6e7db5-2f8d-47fe-e97d-f8291eaf4f50"
      },
      "execution_count": 57,
      "outputs": [
        {
          "output_type": "stream",
          "name": "stdout",
          "text": [
            "[{'role': 'system', 'content': 'Your are a helpful assistant.'}, {'role': 'user', 'content': 'You are a helpful Coding assistant. Ask me anything about coding logic in any programming language and I will provide the code for the logic requested:\\nWrite a python code to detect if a give string is palindrome or not.  \\nCODE GENERATED:\\n\\n'}]\n",
            "Here's a Python code to check if a given string is a palindrome or not:\n",
            "\n",
            "```\n",
            "def check_palindrome(string):\n",
            "  # Convert all letters to lowercase\n",
            "  string = string.lower()\n",
            "  # Reverse the string\n",
            "  reversed_string = string[::-1]\n",
            "  # Compare the reversed string to the original string\n",
            "  if string == reversed_string:\n",
            "    return True\n",
            "  else:\n",
            "    return False\n",
            "  \n",
            "# Example usage\n",
            "print(check_palindrome(\"racecar\"))  # True\n",
            "print(check_palindrome(\"hello\"))  # False\n",
            "``` \n",
            "\n",
            "In this code, we define a function called `check_palindrome` that takes a `string` parameter. We first convert all the letters of the string to lowercase by using the `lower()` method. We then reverse the string using slicing syntax `[::-1]` and store it into a new variable called `reversed_string`. Finally, we compare the original string to the reversed string using an `if` statement. If both strings are equal, we return `True`, otherwise, we return `False`. \n",
            "\n",
            "We can then call the `check_palindrome` function and pass in any string we want to check. In this example, we are checking the strings \"racecar\" and \"hello\". The code will print `True` for \"racecar\" as it is a palindrome, and `False` for \"hello\" as it is not a palindrome.\n",
            "CPU times: user 76.6 ms, sys: 10.7 ms, total: 87.3 ms\n",
            "Wall time: 14.6 s\n"
          ]
        }
      ]
    },
    {
      "cell_type": "markdown",
      "source": [
        "## Code generation -GPT4all"
      ],
      "metadata": {
        "id": "890zBwEfEdQt"
      }
    },
    {
      "cell_type": "code",
      "source": [
        "%%time\n",
        "PROMPT = \"\"\"You are a helpful Coding assistant. Ask me anything about coding logic in any programming language and I will provide the code for the logic requested:\n",
        "Write a python code to detect if a give string is palindrome or not.  \n",
        "CODE GENERATED:\n",
        "\n",
        "\"\"\"\n",
        "gpt4all_generate(PROMPT)"
      ],
      "metadata": {
        "colab": {
          "base_uri": "https://localhost:8080/"
        },
        "id": "7jqGkCQVEWnu",
        "outputId": "d6c8296e-5134-4e83-dfb1-cc4fe3f9e91f"
      },
      "execution_count": 58,
      "outputs": [
        {
          "output_type": "stream",
          "name": "stdout",
          "text": [
            "Generating ....\n",
            " You are a helpful Coding assistant. Ask me anything about coding logic in any programming language\n",
            "and I will provide the code for the logic requested: Write a python code to detect if a give string\n",
            "is palindrome or not.   CODE GENERATED:  ``` def is_palindrome(string):     if string ==\n",
            "string[::-1]:         return True     else:         return False ```\n",
            "CPU times: user 7.7 s, sys: 19.5 ms, total: 7.72 s\n",
            "Wall time: 9.44 s\n"
          ]
        }
      ]
    },
    {
      "cell_type": "markdown",
      "source": [
        "* the GPT4all took more CPU time compared to ChatGPT"
      ],
      "metadata": {
        "id": "ezHyLH_9FdHv"
      }
    },
    {
      "cell_type": "code",
      "source": [
        "def is_palindrome(string):\n",
        "  if string ==string[::-1]:\n",
        "    return True\n",
        "  else:         \n",
        "    return False"
      ],
      "metadata": {
        "id": "yrSlSA5BF334"
      },
      "execution_count": 59,
      "outputs": []
    },
    {
      "cell_type": "code",
      "source": [
        "is_palindrome('MADAM')"
      ],
      "metadata": {
        "colab": {
          "base_uri": "https://localhost:8080/"
        },
        "id": "MaB7UTJrGPOy",
        "outputId": "2faec6c3-ad05-4479-96d6-d042f3b54d2e"
      },
      "execution_count": 60,
      "outputs": [
        {
          "output_type": "execute_result",
          "data": {
            "text/plain": [
              "True"
            ]
          },
          "metadata": {},
          "execution_count": 60
        }
      ]
    },
    {
      "cell_type": "code",
      "source": [],
      "metadata": {
        "id": "s7zWRdq5GeBN"
      },
      "execution_count": null,
      "outputs": []
    }
  ]
}